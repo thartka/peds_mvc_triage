{
 "cells": [
  {
   "cell_type": "markdown",
   "metadata": {},
   "source": [
    "## Project: Development of a reduced pediatric injury prediction model\n",
    "Created by: Thomas Hartka, MD, MS  \n",
    "Date created: 12/20/20  \n",
    "  \n",
    "This notebook evaluates the reduced variable-set model found by Bayesian model averaging and variable number analysis.  This uses ten-fold cross-validation, but uses different fold assignments than the original analysis."
   ]
  },
  {
   "cell_type": "code",
   "execution_count": 1,
   "metadata": {},
   "outputs": [],
   "source": [
    "import numpy as np\n",
    "import pandas as pd\n",
    "from sklearn.linear_model import LogisticRegression\n",
    "from sklearn import metrics\n",
    "from sklearn.model_selection import KFold\n",
    "import scipy.stats as st\n",
    "from itertools import combinations"
   ]
  },
  {
   "cell_type": "markdown",
   "metadata": {},
   "source": [
    "## Set outcome"
   ]
  },
  {
   "cell_type": "code",
   "execution_count": 2,
   "metadata": {},
   "outputs": [],
   "source": [
    "# outcome of interest\n",
    "#  ISS -> ISS>=16\n",
    "#  TIL -> any injury on target injury list\n",
    "outcome = \"ISS\""
   ]
  },
  {
   "cell_type": "markdown",
   "metadata": {},
   "source": [
    "## Read in data"
   ]
  },
  {
   "cell_type": "code",
   "execution_count": 3,
   "metadata": {},
   "outputs": [],
   "source": [
    "peds = pd.read_csv(\"../Data/Peds-2010_2018.csv\")"
   ]
  },
  {
   "cell_type": "code",
   "execution_count": 4,
   "metadata": {},
   "outputs": [],
   "source": [
    "# filter out CISS cases if using TIL because TIL is only valid for AIS98\n",
    "if outcome == \"TIL\":\n",
    "    peds = peds[peds.dataset=='NASS']"
   ]
  },
  {
   "cell_type": "markdown",
   "metadata": {},
   "source": [
    "## Set variables"
   ]
  },
  {
   "cell_type": "code",
   "execution_count": 5,
   "metadata": {},
   "outputs": [],
   "source": [
    "predictors = ['sex','age_5_9', 'age_10_14','age_15_18',\n",
    "              'prop_restraint','no_restraint','front_row', \n",
    "              'dvtotal','pdof_rear','pdof_nearside','pdof_farside', \n",
    "              'rolled','multicoll','ejection']\n",
    "\n",
    "if outcome == \"ISS\":\n",
    "    predictors_reduced = ['dvtotal','ejection','no_restraint', 'pdof_nearside']\n",
    "    response_train = 'iss16'\n",
    "    \n",
    "elif outcome == \"TIL\":\n",
    "    predictors_reduced = ['dvtotal','ejection','no_restraint', 'pdof_nearside', 'multicoll']\n",
    "    response_train = 'target_inj'\n",
    "    \n",
    "else:\n",
    "    raise Exception(\"Outcome not valid\") \n",
    "    \n",
    "response_test = 'iss16'"
   ]
  },
  {
   "cell_type": "markdown",
   "metadata": {},
   "source": [
    "## Create new fold assignments"
   ]
  },
  {
   "cell_type": "code",
   "execution_count": 6,
   "metadata": {},
   "outputs": [],
   "source": [
    "# drop existing fold columns\n",
    "peds = peds.drop(columns=['fold10x','fold5x'])"
   ]
  },
  {
   "cell_type": "code",
   "execution_count": 7,
   "metadata": {},
   "outputs": [],
   "source": [
    "num_folds = 10\n",
    "\n",
    "# initial fold column\n",
    "folds = pd.Series(-1).repeat(len(peds)).reset_index(drop=True)\n",
    "\n",
    "# set up k-fold generator\n",
    "kf = KFold(n_splits=num_folds, shuffle=True, random_state=2716057)\n",
    "\n",
    "# get splits for data\n",
    "kf.get_n_splits(peds)\n",
    "        \n",
    "# interate through folds and assign fold number to cases\n",
    "for i,row_list in enumerate(kf.split(peds)):\n",
    "      folds.loc[row_list[1]] = i\n",
    "    \n",
    "peds['fold'] = folds"
   ]
  },
  {
   "cell_type": "markdown",
   "metadata": {},
   "source": [
    "## Cross validation logistic regression function"
   ]
  },
  {
   "cell_type": "code",
   "execution_count": 8,
   "metadata": {},
   "outputs": [],
   "source": [
    "def log_reg_cv(data, predictors, response_train, response_test, threshold=0.5):\n",
    "    '''\n",
    "    This function performs lass regression using 10-fold cross validation.  \n",
    "    It returns a dataframe with the coefficients for each fold and auc.\n",
    "    \n",
    "    Parameters:\n",
    "        data - data to analyze\n",
    "        predictors - list of columns for predictors\n",
    "    Returns:\n",
    "        cofficient/AUC - DataFrame(contains AUC, fold, cofficients for model)\n",
    "    '''\n",
    "    \n",
    "    # get folds\n",
    "    folds = np.sort(data['fold'].unique())\n",
    "    \n",
    "    # create dataframe for results\n",
    "    results = pd.DataFrame(columns=['num_vars','fold']+predictors+['AUC']+ \\\n",
    "                           ['tp','fp','tn','fn','tpwgt','fpwgt','tnwgt','fnwgt'] + \\\n",
    "                           ['sens','spec','senswgt','specwgt'] + \\\n",
    "                           ['total','totalwgt'])\n",
    "    \n",
    "    # set up LR model\n",
    "    lr_mod = LogisticRegression(random_state=1819, penalty='none',solver='saga',max_iter=10000)\n",
    "    \n",
    "    # loop through folds\n",
    "    for fold in folds:\n",
    "        # separate fold train/test data\n",
    "        train = data[data['fold']!=fold].copy()\n",
    "        test = data[data['fold']==fold].copy()\n",
    "\n",
    "        # fit regression model\n",
    "        lr_fit = lr_mod.fit(train[predictors], train[response_train])\n",
    "\n",
    "        # predict on fold test data\n",
    "        pred = lr_fit.predict_proba(test[predictors])\n",
    "        test['pred'] = pred[:,1]\n",
    "        \n",
    "        # calc AUC\n",
    "        fpr, tpr, thresholds = metrics.roc_curve(test[response_test], pred[:,1], pos_label=1)\n",
    "        AUC = metrics.auc(fpr, tpr)\n",
    "\n",
    "        # gather results\n",
    "        fold_results = [len(predictors), fold]\n",
    "        for i,var in enumerate(predictors):\n",
    "            fold_results.append(lr_fit.coef_[0,i])\n",
    "        fold_results += [AUC]\n",
    "        \n",
    "        # get performance characteristics\n",
    "        tp = test[(test.pred>=threshold) & (test[response_test]==1)].casewgt.count()\n",
    "        fp = test[(test.pred>=threshold) & (test[response_test]==0)].casewgt.count()\n",
    "        tn = test[(test.pred<=threshold) & (test[response_test]==0)].casewgt.count()\n",
    "        fn = test[(test.pred<=threshold) & (test[response_test]==1)].casewgt.count()\n",
    "        \n",
    "        # get weighted performance characteristics\n",
    "        tpwgt = test[(test.pred>=threshold) & (test[response_test]==1)].casewgt.sum()\n",
    "        fpwgt = test[(test.pred>=threshold) & (test[response_test]==0)].casewgt.sum()\n",
    "        tnwgt = test[(test.pred<=threshold) & (test[response_test]==0)].casewgt.sum()\n",
    "        fnwgt = test[(test.pred<=threshold) & (test[response_test]==1)].casewgt.sum()\n",
    "        \n",
    "        # calc sensitivity and specificity \n",
    "        sens = tp / (tp+fn)\n",
    "        spec = tn / (tn+fp)\n",
    "        senswgt = tpwgt / (tpwgt+fnwgt)\n",
    "        specwgt = tnwgt / (tnwgt+fpwgt)\n",
    "        \n",
    "        # calc totals\n",
    "        total = tp+fp+tn+fn\n",
    "        totalwgt = tpwgt+fpwgt+tnwgt+fnwgt\n",
    "        \n",
    "        fold_results += [tp]+[fp]+[tn]+[fn]+\\\n",
    "                        [tpwgt]+[fpwgt]+[tnwgt]+[fnwgt]+\\\n",
    "                        [sens]+[spec]+[senswgt]+[specwgt]+\\\n",
    "                        [total]+[totalwgt]\n",
    "\n",
    "        # store AUC\n",
    "        fold_series = pd.Series(fold_results, index = results.columns)\n",
    "        results = results.append(fold_series, ignore_index=True)\n",
    "    \n",
    "    \n",
    "    return results"
   ]
  },
  {
   "cell_type": "markdown",
   "metadata": {},
   "source": [
    "## Compare AUCs of baseline and reduced models"
   ]
  },
  {
   "cell_type": "code",
   "execution_count": 9,
   "metadata": {},
   "outputs": [
    {
     "name": "stdout",
     "output_type": "stream",
     "text": [
      "CPU times: user 1min 42s, sys: 12.5 s, total: 1min 54s\n",
      "Wall time: 1min 36s\n"
     ]
    }
   ],
   "source": [
    "%%time\n",
    "results = log_reg_cv(peds,predictors,response_train, response_test)\n",
    "results_reduced = log_reg_cv(peds,predictors_reduced,response_train, response_test)"
   ]
  },
  {
   "cell_type": "code",
   "execution_count": 10,
   "metadata": {},
   "outputs": [],
   "source": [
    "def results_CI(results,sig_dig=2):\n",
    "    mean = results.AUC.mean()\n",
    "    sd = results.AUC.std()\n",
    "\n",
    "    # calculate lower and upper 95% CI\n",
    "    ll = round(mean - 1.96*sd, sig_dig)\n",
    "    ul = round(mean + 1.96*sd, sig_dig)\n",
    "    \n",
    "    mean = round(mean, sig_dig)\n",
    "    \n",
    "    print(mean,\"[\",ll,\"-\",ul,\"]\")"
   ]
  },
  {
   "cell_type": "code",
   "execution_count": 11,
   "metadata": {},
   "outputs": [
    {
     "name": "stdout",
     "output_type": "stream",
     "text": [
      "0.906 [ 0.882 - 0.93 ]\n"
     ]
    }
   ],
   "source": [
    "results_CI(results,3)"
   ]
  },
  {
   "cell_type": "code",
   "execution_count": 12,
   "metadata": {},
   "outputs": [
    {
     "name": "stdout",
     "output_type": "stream",
     "text": [
      "0.897 [ 0.866 - 0.929 ]\n"
     ]
    }
   ],
   "source": [
    "results_CI(results_reduced,3)"
   ]
  },
  {
   "cell_type": "markdown",
   "metadata": {},
   "source": [
    "## Examine probability thresholds"
   ]
  },
  {
   "cell_type": "code",
   "execution_count": 13,
   "metadata": {},
   "outputs": [
    {
     "name": "stdout",
     "output_type": "stream",
     "text": [
      "0.0\n",
      "0.01\n",
      "0.02\n",
      "0.03\n",
      "0.04\n",
      "0.05\n",
      "0.06\n",
      "0.07\n",
      "0.08\n",
      "0.09\n",
      "0.1\n",
      "CPU times: user 6min 42s, sys: 71.4 ms, total: 6min 42s\n",
      "Wall time: 6min 42s\n"
     ]
    }
   ],
   "source": [
    "%%time\n",
    "thresholds = pd.DataFrame(columns=['threshold','sens','spec','senswgt','specwgt'])\n",
    "                                   \n",
    "for i in np.linspace(0.0,0.1,11):\n",
    "    thres_res = log_reg_cv(peds,predictors_reduced,response_train, response_test,threshold=i)\n",
    "    res = [i]+[thres_res.sens.mean()]+[thres_res.spec.mean()]+[thres_res.senswgt.mean()]+[thres_res.specwgt.mean()]\n",
    "    \n",
    "    thres_means = pd.Series(res, index = thresholds.columns)\n",
    "    thresholds = thresholds.append(thres_means, ignore_index=True)\n",
    "    \n",
    "    print(i)"
   ]
  },
  {
   "cell_type": "code",
   "execution_count": 14,
   "metadata": {},
   "outputs": [
    {
     "data": {
      "text/html": [
       "<div>\n",
       "<style scoped>\n",
       "    .dataframe tbody tr th:only-of-type {\n",
       "        vertical-align: middle;\n",
       "    }\n",
       "\n",
       "    .dataframe tbody tr th {\n",
       "        vertical-align: top;\n",
       "    }\n",
       "\n",
       "    .dataframe thead th {\n",
       "        text-align: right;\n",
       "    }\n",
       "</style>\n",
       "<table border=\"1\" class=\"dataframe\">\n",
       "  <thead>\n",
       "    <tr style=\"text-align: right;\">\n",
       "      <th></th>\n",
       "      <th>threshold</th>\n",
       "      <th>sens</th>\n",
       "      <th>spec</th>\n",
       "      <th>senswgt</th>\n",
       "      <th>specwgt</th>\n",
       "    </tr>\n",
       "  </thead>\n",
       "  <tbody>\n",
       "    <tr>\n",
       "      <th>0</th>\n",
       "      <td>0.00</td>\n",
       "      <td>1.000000</td>\n",
       "      <td>0.000000</td>\n",
       "      <td>1.000000</td>\n",
       "      <td>0.000000</td>\n",
       "    </tr>\n",
       "    <tr>\n",
       "      <th>1</th>\n",
       "      <td>0.01</td>\n",
       "      <td>0.983289</td>\n",
       "      <td>0.364319</td>\n",
       "      <td>0.904283</td>\n",
       "      <td>0.493870</td>\n",
       "    </tr>\n",
       "    <tr>\n",
       "      <th>2</th>\n",
       "      <td>0.02</td>\n",
       "      <td>0.940899</td>\n",
       "      <td>0.634568</td>\n",
       "      <td>0.867519</td>\n",
       "      <td>0.768554</td>\n",
       "    </tr>\n",
       "    <tr>\n",
       "      <th>3</th>\n",
       "      <td>0.03</td>\n",
       "      <td>0.890135</td>\n",
       "      <td>0.746707</td>\n",
       "      <td>0.783900</td>\n",
       "      <td>0.872912</td>\n",
       "    </tr>\n",
       "    <tr>\n",
       "      <th>4</th>\n",
       "      <td>0.04</td>\n",
       "      <td>0.851492</td>\n",
       "      <td>0.806002</td>\n",
       "      <td>0.737446</td>\n",
       "      <td>0.909171</td>\n",
       "    </tr>\n",
       "    <tr>\n",
       "      <th>5</th>\n",
       "      <td>0.05</td>\n",
       "      <td>0.805023</td>\n",
       "      <td>0.843584</td>\n",
       "      <td>0.705335</td>\n",
       "      <td>0.932053</td>\n",
       "    </tr>\n",
       "    <tr>\n",
       "      <th>6</th>\n",
       "      <td>0.06</td>\n",
       "      <td>0.769325</td>\n",
       "      <td>0.871112</td>\n",
       "      <td>0.657229</td>\n",
       "      <td>0.948131</td>\n",
       "    </tr>\n",
       "    <tr>\n",
       "      <th>7</th>\n",
       "      <td>0.07</td>\n",
       "      <td>0.735570</td>\n",
       "      <td>0.891048</td>\n",
       "      <td>0.613084</td>\n",
       "      <td>0.958425</td>\n",
       "    </tr>\n",
       "    <tr>\n",
       "      <th>8</th>\n",
       "      <td>0.08</td>\n",
       "      <td>0.700372</td>\n",
       "      <td>0.905042</td>\n",
       "      <td>0.591187</td>\n",
       "      <td>0.962664</td>\n",
       "    </tr>\n",
       "    <tr>\n",
       "      <th>9</th>\n",
       "      <td>0.09</td>\n",
       "      <td>0.669171</td>\n",
       "      <td>0.914551</td>\n",
       "      <td>0.556788</td>\n",
       "      <td>0.967999</td>\n",
       "    </tr>\n",
       "    <tr>\n",
       "      <th>10</th>\n",
       "      <td>0.10</td>\n",
       "      <td>0.631018</td>\n",
       "      <td>0.924293</td>\n",
       "      <td>0.524416</td>\n",
       "      <td>0.973703</td>\n",
       "    </tr>\n",
       "  </tbody>\n",
       "</table>\n",
       "</div>"
      ],
      "text/plain": [
       "    threshold      sens      spec   senswgt   specwgt\n",
       "0        0.00  1.000000  0.000000  1.000000  0.000000\n",
       "1        0.01  0.983289  0.364319  0.904283  0.493870\n",
       "2        0.02  0.940899  0.634568  0.867519  0.768554\n",
       "3        0.03  0.890135  0.746707  0.783900  0.872912\n",
       "4        0.04  0.851492  0.806002  0.737446  0.909171\n",
       "5        0.05  0.805023  0.843584  0.705335  0.932053\n",
       "6        0.06  0.769325  0.871112  0.657229  0.948131\n",
       "7        0.07  0.735570  0.891048  0.613084  0.958425\n",
       "8        0.08  0.700372  0.905042  0.591187  0.962664\n",
       "9        0.09  0.669171  0.914551  0.556788  0.967999\n",
       "10       0.10  0.631018  0.924293  0.524416  0.973703"
      ]
     },
     "execution_count": 14,
     "metadata": {},
     "output_type": "execute_result"
    }
   ],
   "source": [
    "thresholds"
   ]
  },
  {
   "cell_type": "markdown",
   "metadata": {},
   "source": [
    "## Calculate under and over triage rates"
   ]
  },
  {
   "cell_type": "code",
   "execution_count": 22,
   "metadata": {},
   "outputs": [
    {
     "data": {
      "text/html": [
       "<div>\n",
       "<style scoped>\n",
       "    .dataframe tbody tr th:only-of-type {\n",
       "        vertical-align: middle;\n",
       "    }\n",
       "\n",
       "    .dataframe tbody tr th {\n",
       "        vertical-align: top;\n",
       "    }\n",
       "\n",
       "    .dataframe thead th {\n",
       "        text-align: right;\n",
       "    }\n",
       "</style>\n",
       "<table border=\"1\" class=\"dataframe\">\n",
       "  <thead>\n",
       "    <tr style=\"text-align: right;\">\n",
       "      <th></th>\n",
       "      <th>Probability Threshold</th>\n",
       "      <th>Undertriage rate</th>\n",
       "      <th>Overtriage rate</th>\n",
       "    </tr>\n",
       "  </thead>\n",
       "  <tbody>\n",
       "    <tr>\n",
       "      <th>0</th>\n",
       "      <td>0.00</td>\n",
       "      <td>0.000000</td>\n",
       "      <td>1.000000</td>\n",
       "    </tr>\n",
       "    <tr>\n",
       "      <th>1</th>\n",
       "      <td>0.01</td>\n",
       "      <td>0.095717</td>\n",
       "      <td>0.506130</td>\n",
       "    </tr>\n",
       "    <tr>\n",
       "      <th>2</th>\n",
       "      <td>0.02</td>\n",
       "      <td>0.132481</td>\n",
       "      <td>0.231446</td>\n",
       "    </tr>\n",
       "    <tr>\n",
       "      <th>3</th>\n",
       "      <td>0.03</td>\n",
       "      <td>0.216100</td>\n",
       "      <td>0.127088</td>\n",
       "    </tr>\n",
       "    <tr>\n",
       "      <th>4</th>\n",
       "      <td>0.04</td>\n",
       "      <td>0.262554</td>\n",
       "      <td>0.090829</td>\n",
       "    </tr>\n",
       "    <tr>\n",
       "      <th>5</th>\n",
       "      <td>0.05</td>\n",
       "      <td>0.294665</td>\n",
       "      <td>0.067947</td>\n",
       "    </tr>\n",
       "    <tr>\n",
       "      <th>6</th>\n",
       "      <td>0.06</td>\n",
       "      <td>0.342771</td>\n",
       "      <td>0.051869</td>\n",
       "    </tr>\n",
       "    <tr>\n",
       "      <th>7</th>\n",
       "      <td>0.07</td>\n",
       "      <td>0.386916</td>\n",
       "      <td>0.041575</td>\n",
       "    </tr>\n",
       "    <tr>\n",
       "      <th>8</th>\n",
       "      <td>0.08</td>\n",
       "      <td>0.408813</td>\n",
       "      <td>0.037336</td>\n",
       "    </tr>\n",
       "    <tr>\n",
       "      <th>9</th>\n",
       "      <td>0.09</td>\n",
       "      <td>0.443212</td>\n",
       "      <td>0.032001</td>\n",
       "    </tr>\n",
       "    <tr>\n",
       "      <th>10</th>\n",
       "      <td>0.10</td>\n",
       "      <td>0.475584</td>\n",
       "      <td>0.026297</td>\n",
       "    </tr>\n",
       "  </tbody>\n",
       "</table>\n",
       "</div>"
      ],
      "text/plain": [
       "    Probability Threshold  Undertriage rate  Overtriage rate\n",
       "0                    0.00          0.000000         1.000000\n",
       "1                    0.01          0.095717         0.506130\n",
       "2                    0.02          0.132481         0.231446\n",
       "3                    0.03          0.216100         0.127088\n",
       "4                    0.04          0.262554         0.090829\n",
       "5                    0.05          0.294665         0.067947\n",
       "6                    0.06          0.342771         0.051869\n",
       "7                    0.07          0.386916         0.041575\n",
       "8                    0.08          0.408813         0.037336\n",
       "9                    0.09          0.443212         0.032001\n",
       "10                   0.10          0.475584         0.026297"
      ]
     },
     "execution_count": 22,
     "metadata": {},
     "output_type": "execute_result"
    }
   ],
   "source": [
    "triage = thresholds[['threshold','senswgt','specwgt']].copy()\n",
    "\n",
    "# calculate undertriage and overtriage\n",
    "triage['Undertriage rate'] = 1-triage.senswgt \n",
    "triage['Overtriage rate'] = 1-triage.specwgt \n",
    "\n",
    "triage[['threshold','Undertriage rate','Overtriage rate']].rename(columns={'threshold':'Probability Threshold'})"
   ]
  },
  {
   "cell_type": "code",
   "execution_count": null,
   "metadata": {},
   "outputs": [],
   "source": []
  }
 ],
 "metadata": {
  "kernelspec": {
   "display_name": "Python 3",
   "language": "python",
   "name": "python3"
  },
  "language_info": {
   "codemirror_mode": {
    "name": "ipython",
    "version": 3
   },
   "file_extension": ".py",
   "mimetype": "text/x-python",
   "name": "python",
   "nbconvert_exporter": "python",
   "pygments_lexer": "ipython3",
   "version": "3.6.5"
  }
 },
 "nbformat": 4,
 "nbformat_minor": 2
}
