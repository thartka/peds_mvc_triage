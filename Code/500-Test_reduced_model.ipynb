{
 "cells": [
  {
   "cell_type": "markdown",
   "metadata": {},
   "source": [
    "## Project: Development of a reduced pediatric injury prediction model\n",
    "Created by: Thomas Hartka, MD, MS  \n",
    "Date created: 12/20/20  \n",
    "  \n",
    "This notebook evaluates the reduced variable-set model found by Bayesian model averaging and variable number analysis.  This uses ten-fold cross-validation, but uses different fold assignments than the original analysis."
   ]
  },
  {
   "cell_type": "code",
   "execution_count": 1,
   "metadata": {},
   "outputs": [],
   "source": [
    "import numpy as np\n",
    "import pandas as pd\n",
    "from sklearn.linear_model import LogisticRegression\n",
    "from sklearn import metrics\n",
    "from sklearn.model_selection import KFold\n",
    "import scipy.stats as st\n",
    "from itertools import combinations\n",
    "import matplotlib.pyplot as plt\n",
    "plt.style.use('seaborn-whitegrid')"
   ]
  },
  {
   "cell_type": "markdown",
   "metadata": {},
   "source": [
    "## Set outcome"
   ]
  },
  {
   "cell_type": "code",
   "execution_count": 2,
   "metadata": {},
   "outputs": [],
   "source": [
    "# outcome of interest\n",
    "#  ISS -> ISS>=16\n",
    "#  TIL -> any injury on target injury list\n",
    "outcome = \"ISS\"\n",
    "\n",
    "filter_missing = True"
   ]
  },
  {
   "cell_type": "markdown",
   "metadata": {},
   "source": [
    "## Read in data"
   ]
  },
  {
   "cell_type": "code",
   "execution_count": 3,
   "metadata": {},
   "outputs": [],
   "source": [
    "peds = pd.read_csv(\"../Data/Peds-2010_2018-unfiltered.csv\")"
   ]
  },
  {
   "cell_type": "code",
   "execution_count": 4,
   "metadata": {},
   "outputs": [],
   "source": [
    "# filter out CISS cases if using TIL because TIL is only valid for AIS98\n",
    "if outcome == \"TIL\":\n",
    "    peds = peds[peds.dataset=='NASS']"
   ]
  },
  {
   "cell_type": "markdown",
   "metadata": {},
   "source": [
    "## Set variables"
   ]
  },
  {
   "cell_type": "code",
   "execution_count": 21,
   "metadata": {},
   "outputs": [],
   "source": [
    "predictors = ['sex','age_5_9', 'age_10_14','age_15_18',\n",
    "              'prop_restraint','any_restraint','front_row', \n",
    "              'dvtotal','pdof_rear','pdof_nearside','pdof_farside', \n",
    "              'rolled','multicoll','ejection',\n",
    "              'splimit','abdeply','entrapment']\n",
    "\n",
    "predictors_wo_dv = ['sex','age_5_9', 'age_10_14','age_15_18',\n",
    "              'prop_restraint','any_restraint','front_row', \n",
    "              'pdof_rear','pdof_nearside','pdof_farside', \n",
    "              'rolled','multicoll','ejection',\n",
    "              'splimit','abdeply','entrapment']\n",
    "\n",
    "if outcome == \"ISS\":\n",
    "    predictors_reduced = ['dvtotal','entrapment','any_restraint','ejection','pdof_nearside']\n",
    "    response_train = 'iss16'\n",
    "    \n",
    "elif outcome == \"TIL\":\n",
    "    predictors_reduced = ['dvtotal','entrapment','any_restraint','ejection','pdof_nearside', 'multicoll']\n",
    "    response_train = 'target_inj'\n",
    "    \n",
    "else:\n",
    "    raise Exception(\"Outcome not valid\") \n",
    "    \n",
    "response_test = 'iss16'"
   ]
  },
  {
   "cell_type": "markdown",
   "metadata": {},
   "source": [
    "## Filter cases with missing data"
   ]
  },
  {
   "cell_type": "code",
   "execution_count": 6,
   "metadata": {},
   "outputs": [],
   "source": [
    "# filter cases with missing values\n",
    "if filter_missing:\n",
    "    # columns we care about\n",
    "    missing_cols = ['dvtotal','pdof_front','rolled','prop_restraint','any_restraint']\n",
    "    \n",
    "    # remove rows with missing values\n",
    "    peds = peds.dropna(subset=predictors).reset_index(drop=True)"
   ]
  },
  {
   "cell_type": "markdown",
   "metadata": {},
   "source": [
    "## Create new fold assignments"
   ]
  },
  {
   "cell_type": "code",
   "execution_count": 7,
   "metadata": {},
   "outputs": [],
   "source": [
    "# drop existing fold columns\n",
    "peds = peds.drop(columns=['fold10x','fold5x'])"
   ]
  },
  {
   "cell_type": "code",
   "execution_count": 8,
   "metadata": {},
   "outputs": [],
   "source": [
    "num_folds = 10\n",
    "\n",
    "# initial fold column\n",
    "folds = pd.Series(-1).repeat(len(peds)).reset_index(drop=True)\n",
    "\n",
    "# set up k-fold generator\n",
    "kf = KFold(n_splits=num_folds, shuffle=True, random_state=2716057)\n",
    "\n",
    "# get splits for data\n",
    "kf.get_n_splits(peds)\n",
    "        \n",
    "# interate through folds and assign fold number to cases\n",
    "for i,row_list in enumerate(kf.split(peds)):\n",
    "      folds.loc[row_list[1]] = i\n",
    "    \n",
    "peds['fold'] = folds"
   ]
  },
  {
   "cell_type": "markdown",
   "metadata": {},
   "source": [
    "## Cross validation logistic regression function"
   ]
  },
  {
   "cell_type": "code",
   "execution_count": 9,
   "metadata": {},
   "outputs": [],
   "source": [
    "def log_reg_cv(data, predictors, response_train, response_test, threshold=0.5):\n",
    "    '''\n",
    "    This function performs lass regression using 10-fold cross validation.  \n",
    "    It returns a dataframe with the coefficients for each fold and auc.\n",
    "    \n",
    "    Parameters:\n",
    "        data - data to analyze\n",
    "        predictors - list of columns for predictors\n",
    "    Returns:\n",
    "        cofficient/AUC - DataFrame(contains AUC, fold, cofficients for model)\n",
    "    '''\n",
    "    \n",
    "    # get folds\n",
    "    folds = np.sort(data['fold'].unique())\n",
    "    \n",
    "    # create dataframe for results\n",
    "    results = pd.DataFrame(columns=['num_vars','fold']+predictors+['AUC']+ \\\n",
    "                           ['tp','fp','tn','fn','tpwgt','fpwgt','tnwgt','fnwgt'] + \\\n",
    "                           ['sens','spec','senswgt','specwgt'] + \\\n",
    "                           ['total','totalwgt'])\n",
    "    \n",
    "    # set up LR model\n",
    "    lr_mod = LogisticRegression(random_state=1819, penalty='none',solver='saga',max_iter=10000)\n",
    "    \n",
    "    # loop through folds\n",
    "    for fold in folds:\n",
    "        # separate fold train/test data\n",
    "        train = data[data['fold']!=fold].copy()\n",
    "        test = data[data['fold']==fold].copy()\n",
    "\n",
    "        # fit regression model\n",
    "        lr_fit = lr_mod.fit(train[predictors], train[response_train])\n",
    "\n",
    "        # predict on fold test data\n",
    "        pred = lr_fit.predict_proba(test[predictors])\n",
    "        test['pred'] = pred[:,1]\n",
    "        \n",
    "        # calc AUC\n",
    "        fpr, tpr, thresholds = metrics.roc_curve(test[response_test], pred[:,1], pos_label=1)\n",
    "        AUC = metrics.auc(fpr, tpr)\n",
    "\n",
    "        # gather results\n",
    "        fold_results = [len(predictors), fold]\n",
    "        for i,var in enumerate(predictors):\n",
    "            fold_results.append(lr_fit.coef_[0,i])\n",
    "        fold_results += [AUC]\n",
    "        \n",
    "        # get performance characteristics\n",
    "        tp = test[(test.pred>=threshold) & (test[response_test]==1)].casewgt.count()\n",
    "        fp = test[(test.pred>=threshold) & (test[response_test]==0)].casewgt.count()\n",
    "        tn = test[(test.pred<=threshold) & (test[response_test]==0)].casewgt.count()\n",
    "        fn = test[(test.pred<=threshold) & (test[response_test]==1)].casewgt.count()\n",
    "        \n",
    "        # get weighted performance characteristics\n",
    "        tpwgt = test[(test.pred>=threshold) & (test[response_test]==1)].casewgt.sum()\n",
    "        fpwgt = test[(test.pred>=threshold) & (test[response_test]==0)].casewgt.sum()\n",
    "        tnwgt = test[(test.pred<=threshold) & (test[response_test]==0)].casewgt.sum()\n",
    "        fnwgt = test[(test.pred<=threshold) & (test[response_test]==1)].casewgt.sum()\n",
    "        \n",
    "        # calc sensitivity and specificity \n",
    "        sens = tp / (tp+fn)\n",
    "        spec = tn / (tn+fp)\n",
    "        senswgt = tpwgt / (tpwgt+fnwgt)\n",
    "        specwgt = tnwgt / (tnwgt+fpwgt)\n",
    "        \n",
    "        # calc totals\n",
    "        total = tp+fp+tn+fn\n",
    "        totalwgt = tpwgt+fpwgt+tnwgt+fnwgt\n",
    "        \n",
    "        fold_results += [tp]+[fp]+[tn]+[fn]+\\\n",
    "                        [tpwgt]+[fpwgt]+[tnwgt]+[fnwgt]+\\\n",
    "                        [sens]+[spec]+[senswgt]+[specwgt]+\\\n",
    "                        [total]+[totalwgt]\n",
    "\n",
    "        # store AUC\n",
    "        fold_series = pd.Series(fold_results, index = results.columns)\n",
    "        results = results.append(fold_series, ignore_index=True)\n",
    "    \n",
    "    \n",
    "    return results"
   ]
  },
  {
   "cell_type": "markdown",
   "metadata": {},
   "source": [
    "## Compare AUCs of baseline and reduced models"
   ]
  },
  {
   "cell_type": "code",
   "execution_count": 10,
   "metadata": {},
   "outputs": [],
   "source": [
    "def results_CI(results,sig_dig=2):\n",
    "    mean = results.AUC.mean()\n",
    "    sd = results.AUC.std()\n",
    "    \n",
    "    print(\"SD:\",sd)\n",
    "\n",
    "    # calculate lower and upper 95% CI\n",
    "    ll = round(mean - 1.96*sd, sig_dig)\n",
    "    ul = round(mean + 1.96*sd, sig_dig)\n",
    "    \n",
    "    mean = round(mean, sig_dig)\n",
    "    \n",
    "    print(mean,\"[\",ll,\"-\",ul,\"]\")"
   ]
  },
  {
   "cell_type": "code",
   "execution_count": 11,
   "metadata": {},
   "outputs": [
    {
     "name": "stdout",
     "output_type": "stream",
     "text": [
      "CPU times: user 2min 46s, sys: 7.52 s, total: 2min 54s\n",
      "Wall time: 1min 55s\n"
     ]
    }
   ],
   "source": [
    "%%time\n",
    "results = log_reg_cv(peds,predictors,response_train, response_test)\n",
    "results_reduced = log_reg_cv(peds,predictors_reduced,response_train, response_test)"
   ]
  },
  {
   "cell_type": "code",
   "execution_count": 12,
   "metadata": {},
   "outputs": [
    {
     "name": "stdout",
     "output_type": "stream",
     "text": [
      "SD: 0.022768080464503303\n",
      "0.907 [ 0.862 - 0.952 ]\n"
     ]
    }
   ],
   "source": [
    "results_CI(results,3)"
   ]
  },
  {
   "cell_type": "code",
   "execution_count": 13,
   "metadata": {},
   "outputs": [
    {
     "name": "stdout",
     "output_type": "stream",
     "text": [
      "SD: 0.03278549611066127\n",
      "0.899 [ 0.835 - 0.963 ]\n"
     ]
    }
   ],
   "source": [
    "results_CI(results_reduced,3)"
   ]
  },
  {
   "cell_type": "markdown",
   "metadata": {},
   "source": [
    "## Examine model without delta-V"
   ]
  },
  {
   "cell_type": "code",
   "execution_count": 22,
   "metadata": {},
   "outputs": [
    {
     "name": "stdout",
     "output_type": "stream",
     "text": [
      "CPU times: user 1min 7s, sys: 3.56 s, total: 1min 10s\n",
      "Wall time: 41.1 s\n"
     ]
    }
   ],
   "source": [
    "%%time\n",
    "results_wo_dv = log_reg_cv(peds,predictors_wo_dv,response_train, response_test)"
   ]
  },
  {
   "cell_type": "code",
   "execution_count": 23,
   "metadata": {},
   "outputs": [
    {
     "name": "stdout",
     "output_type": "stream",
     "text": [
      "SD: 0.02670962735747859\n",
      "0.819 [ 0.766 - 0.871 ]\n"
     ]
    }
   ],
   "source": [
    "results_CI(results_wo_dv,3)"
   ]
  },
  {
   "cell_type": "markdown",
   "metadata": {},
   "source": [
    "## Examine probability thresholds"
   ]
  },
  {
   "cell_type": "code",
   "execution_count": 15,
   "metadata": {},
   "outputs": [
    {
     "name": "stdout",
     "output_type": "stream",
     "text": [
      "0.0\n",
      "0.005\n",
      "0.01\n",
      "0.015\n",
      "0.02\n",
      "0.025\n",
      "0.03\n",
      "0.035\n",
      "0.04\n",
      "0.045\n",
      "0.05\n",
      "CPU times: user 12min 34s, sys: 44 s, total: 13min 18s\n",
      "Wall time: 8min 1s\n"
     ]
    }
   ],
   "source": [
    "%%time\n",
    "thresholds = pd.DataFrame(columns=['threshold','sens','spec','senswgt','specwgt'])\n",
    "                                   \n",
    "for i in np.linspace(0.0,0.05,11):\n",
    "    thres_res = log_reg_cv(peds,predictors_reduced,response_train, response_test,threshold=i)\n",
    "    res = [i]+[thres_res.sens.mean()]+[thres_res.spec.mean()]+[thres_res.senswgt.mean()]+[thres_res.specwgt.mean()]\n",
    "    \n",
    "    thres_means = pd.Series(res, index = thresholds.columns)\n",
    "    thresholds = thresholds.append(thres_means, ignore_index=True)\n",
    "    \n",
    "    print(i)"
   ]
  },
  {
   "cell_type": "code",
   "execution_count": 16,
   "metadata": {},
   "outputs": [
    {
     "data": {
      "text/html": [
       "<div>\n",
       "<style scoped>\n",
       "    .dataframe tbody tr th:only-of-type {\n",
       "        vertical-align: middle;\n",
       "    }\n",
       "\n",
       "    .dataframe tbody tr th {\n",
       "        vertical-align: top;\n",
       "    }\n",
       "\n",
       "    .dataframe thead th {\n",
       "        text-align: right;\n",
       "    }\n",
       "</style>\n",
       "<table border=\"1\" class=\"dataframe\">\n",
       "  <thead>\n",
       "    <tr style=\"text-align: right;\">\n",
       "      <th></th>\n",
       "      <th>threshold</th>\n",
       "      <th>sens</th>\n",
       "      <th>spec</th>\n",
       "      <th>senswgt</th>\n",
       "      <th>specwgt</th>\n",
       "    </tr>\n",
       "  </thead>\n",
       "  <tbody>\n",
       "    <tr>\n",
       "      <th>0</th>\n",
       "      <td>0.000</td>\n",
       "      <td>1.000000</td>\n",
       "      <td>0.000000</td>\n",
       "      <td>1.000000</td>\n",
       "      <td>0.000000</td>\n",
       "    </tr>\n",
       "    <tr>\n",
       "      <th>1</th>\n",
       "      <td>0.005</td>\n",
       "      <td>0.998529</td>\n",
       "      <td>0.106946</td>\n",
       "      <td>0.999565</td>\n",
       "      <td>0.160485</td>\n",
       "    </tr>\n",
       "    <tr>\n",
       "      <th>2</th>\n",
       "      <td>0.010</td>\n",
       "      <td>0.970795</td>\n",
       "      <td>0.407582</td>\n",
       "      <td>0.894967</td>\n",
       "      <td>0.534133</td>\n",
       "    </tr>\n",
       "    <tr>\n",
       "      <th>3</th>\n",
       "      <td>0.015</td>\n",
       "      <td>0.945918</td>\n",
       "      <td>0.568421</td>\n",
       "      <td>0.873710</td>\n",
       "      <td>0.700356</td>\n",
       "    </tr>\n",
       "    <tr>\n",
       "      <th>4</th>\n",
       "      <td>0.020</td>\n",
       "      <td>0.923123</td>\n",
       "      <td>0.666966</td>\n",
       "      <td>0.809444</td>\n",
       "      <td>0.807150</td>\n",
       "    </tr>\n",
       "    <tr>\n",
       "      <th>5</th>\n",
       "      <td>0.025</td>\n",
       "      <td>0.891175</td>\n",
       "      <td>0.736079</td>\n",
       "      <td>0.791103</td>\n",
       "      <td>0.863280</td>\n",
       "    </tr>\n",
       "    <tr>\n",
       "      <th>6</th>\n",
       "      <td>0.030</td>\n",
       "      <td>0.864111</td>\n",
       "      <td>0.780131</td>\n",
       "      <td>0.757741</td>\n",
       "      <td>0.892957</td>\n",
       "    </tr>\n",
       "    <tr>\n",
       "      <th>7</th>\n",
       "      <td>0.035</td>\n",
       "      <td>0.839797</td>\n",
       "      <td>0.809330</td>\n",
       "      <td>0.745944</td>\n",
       "      <td>0.909373</td>\n",
       "    </tr>\n",
       "    <tr>\n",
       "      <th>8</th>\n",
       "      <td>0.040</td>\n",
       "      <td>0.806518</td>\n",
       "      <td>0.832165</td>\n",
       "      <td>0.726657</td>\n",
       "      <td>0.926445</td>\n",
       "    </tr>\n",
       "    <tr>\n",
       "      <th>9</th>\n",
       "      <td>0.045</td>\n",
       "      <td>0.786447</td>\n",
       "      <td>0.851819</td>\n",
       "      <td>0.670408</td>\n",
       "      <td>0.938758</td>\n",
       "    </tr>\n",
       "    <tr>\n",
       "      <th>10</th>\n",
       "      <td>0.050</td>\n",
       "      <td>0.777791</td>\n",
       "      <td>0.867518</td>\n",
       "      <td>0.658549</td>\n",
       "      <td>0.945902</td>\n",
       "    </tr>\n",
       "  </tbody>\n",
       "</table>\n",
       "</div>"
      ],
      "text/plain": [
       "    threshold      sens      spec   senswgt   specwgt\n",
       "0       0.000  1.000000  0.000000  1.000000  0.000000\n",
       "1       0.005  0.998529  0.106946  0.999565  0.160485\n",
       "2       0.010  0.970795  0.407582  0.894967  0.534133\n",
       "3       0.015  0.945918  0.568421  0.873710  0.700356\n",
       "4       0.020  0.923123  0.666966  0.809444  0.807150\n",
       "5       0.025  0.891175  0.736079  0.791103  0.863280\n",
       "6       0.030  0.864111  0.780131  0.757741  0.892957\n",
       "7       0.035  0.839797  0.809330  0.745944  0.909373\n",
       "8       0.040  0.806518  0.832165  0.726657  0.926445\n",
       "9       0.045  0.786447  0.851819  0.670408  0.938758\n",
       "10      0.050  0.777791  0.867518  0.658549  0.945902"
      ]
     },
     "execution_count": 16,
     "metadata": {},
     "output_type": "execute_result"
    }
   ],
   "source": [
    "thresholds"
   ]
  },
  {
   "cell_type": "markdown",
   "metadata": {},
   "source": [
    "## Calculate under and over triage rates"
   ]
  },
  {
   "cell_type": "code",
   "execution_count": 17,
   "metadata": {},
   "outputs": [
    {
     "data": {
      "text/html": [
       "<div>\n",
       "<style scoped>\n",
       "    .dataframe tbody tr th:only-of-type {\n",
       "        vertical-align: middle;\n",
       "    }\n",
       "\n",
       "    .dataframe tbody tr th {\n",
       "        vertical-align: top;\n",
       "    }\n",
       "\n",
       "    .dataframe thead th {\n",
       "        text-align: right;\n",
       "    }\n",
       "</style>\n",
       "<table border=\"1\" class=\"dataframe\">\n",
       "  <thead>\n",
       "    <tr style=\"text-align: right;\">\n",
       "      <th></th>\n",
       "      <th>Probability Threshold</th>\n",
       "      <th>Undertriage rate</th>\n",
       "      <th>Overtriage rate</th>\n",
       "    </tr>\n",
       "  </thead>\n",
       "  <tbody>\n",
       "    <tr>\n",
       "      <th>0</th>\n",
       "      <td>0.000</td>\n",
       "      <td>0.000000</td>\n",
       "      <td>1.000000</td>\n",
       "    </tr>\n",
       "    <tr>\n",
       "      <th>1</th>\n",
       "      <td>0.005</td>\n",
       "      <td>0.000435</td>\n",
       "      <td>0.839515</td>\n",
       "    </tr>\n",
       "    <tr>\n",
       "      <th>2</th>\n",
       "      <td>0.010</td>\n",
       "      <td>0.105033</td>\n",
       "      <td>0.465867</td>\n",
       "    </tr>\n",
       "    <tr>\n",
       "      <th>3</th>\n",
       "      <td>0.015</td>\n",
       "      <td>0.126290</td>\n",
       "      <td>0.299644</td>\n",
       "    </tr>\n",
       "    <tr>\n",
       "      <th>4</th>\n",
       "      <td>0.020</td>\n",
       "      <td>0.190556</td>\n",
       "      <td>0.192850</td>\n",
       "    </tr>\n",
       "    <tr>\n",
       "      <th>5</th>\n",
       "      <td>0.025</td>\n",
       "      <td>0.208897</td>\n",
       "      <td>0.136720</td>\n",
       "    </tr>\n",
       "    <tr>\n",
       "      <th>6</th>\n",
       "      <td>0.030</td>\n",
       "      <td>0.242259</td>\n",
       "      <td>0.107043</td>\n",
       "    </tr>\n",
       "    <tr>\n",
       "      <th>7</th>\n",
       "      <td>0.035</td>\n",
       "      <td>0.254056</td>\n",
       "      <td>0.090627</td>\n",
       "    </tr>\n",
       "    <tr>\n",
       "      <th>8</th>\n",
       "      <td>0.040</td>\n",
       "      <td>0.273343</td>\n",
       "      <td>0.073555</td>\n",
       "    </tr>\n",
       "    <tr>\n",
       "      <th>9</th>\n",
       "      <td>0.045</td>\n",
       "      <td>0.329592</td>\n",
       "      <td>0.061242</td>\n",
       "    </tr>\n",
       "    <tr>\n",
       "      <th>10</th>\n",
       "      <td>0.050</td>\n",
       "      <td>0.341451</td>\n",
       "      <td>0.054098</td>\n",
       "    </tr>\n",
       "  </tbody>\n",
       "</table>\n",
       "</div>"
      ],
      "text/plain": [
       "    Probability Threshold  Undertriage rate  Overtriage rate\n",
       "0                   0.000          0.000000         1.000000\n",
       "1                   0.005          0.000435         0.839515\n",
       "2                   0.010          0.105033         0.465867\n",
       "3                   0.015          0.126290         0.299644\n",
       "4                   0.020          0.190556         0.192850\n",
       "5                   0.025          0.208897         0.136720\n",
       "6                   0.030          0.242259         0.107043\n",
       "7                   0.035          0.254056         0.090627\n",
       "8                   0.040          0.273343         0.073555\n",
       "9                   0.045          0.329592         0.061242\n",
       "10                  0.050          0.341451         0.054098"
      ]
     },
     "execution_count": 17,
     "metadata": {},
     "output_type": "execute_result"
    }
   ],
   "source": [
    "triage = thresholds[['threshold','senswgt','specwgt']].copy()\n",
    "\n",
    "# calculate undertriage and overtriage\n",
    "triage['Undertriage rate'] = 1-triage.senswgt \n",
    "triage['Overtriage rate'] = 1-triage.specwgt \n",
    "\n",
    "triage[['threshold','Undertriage rate','Overtriage rate']].rename(columns={'threshold':'Probability Threshold'})"
   ]
  },
  {
   "cell_type": "markdown",
   "metadata": {},
   "source": [
    "## Plot over and undertriage rates"
   ]
  },
  {
   "cell_type": "code",
   "execution_count": 18,
   "metadata": {},
   "outputs": [
    {
     "data": {
      "text/plain": [
       "<matplotlib.lines.Line2D at 0x7f2d2883dfd0>"
      ]
     },
     "execution_count": 18,
     "metadata": {},
     "output_type": "execute_result"
    },
    {
     "data": {
      "image/png": "[encoded data removed]",
      "text/plain": [
       "<Figure size 432x288 with 1 Axes>"
      ]
     },
     "metadata": {},
     "output_type": "display_data"
    }
   ],
   "source": [
    "plt.plot(triage.threshold, triage['Undertriage rate'], '-', color='black')\n",
    "plt.plot(triage.threshold, triage['Overtriage rate'], '-', color='gray')\n",
    "plt.axhline(y=0.05, color='black', linestyle='--')\n",
    "plt.axhline(y=0.35, color='black', linestyle='--')"
   ]
  },
  {
   "cell_type": "code",
   "execution_count": null,
   "metadata": {},
   "outputs": [],
   "source": []
  }
 ],
 "metadata": {
  "kernelspec": {
   "display_name": "Python 3",
   "language": "python",
   "name": "python3"
  },
  "language_info": {
   "codemirror_mode": {
    "name": "ipython",
    "version": 3
   },
   "file_extension": ".py",
   "mimetype": "text/x-python",
   "name": "python",
   "nbconvert_exporter": "python",
   "pygments_lexer": "ipython3",
   "version": "3.6.7"
  }
 },
 "nbformat": 4,
 "nbformat_minor": 2
}
