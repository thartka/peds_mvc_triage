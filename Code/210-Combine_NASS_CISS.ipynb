{
 "cells": [
  {
   "cell_type": "markdown",
   "metadata": {},
   "source": [
    "## Project: Development of a reduced pediatric injury prediction model\n",
    "Created by: Thomas Hartka, MD, MS  \n",
    "Date created: 12/5/20  \n",
    "  \n",
    "This notebook combined the data from NASS and CISS. It also adds age groups and fold numbers for cross-validation.   Folds number are separately assigned for NASS and CISS.  This is done so there are an equal number of NASS and CISS cases in each fold, and each database can also be evaluated separately.  "
   ]
  },
  {
   "cell_type": "code",
   "execution_count": 1,
   "metadata": {},
   "outputs": [],
   "source": [
    "import numpy as np\n",
    "import pandas as pd\n",
    "from sklearn.model_selection import KFold\n",
    "import itertools"
   ]
  },
  {
   "cell_type": "markdown",
   "metadata": {},
   "source": [
    "## Read in NASS and CISS data"
   ]
  },
  {
   "cell_type": "code",
   "execution_count": 2,
   "metadata": {},
   "outputs": [],
   "source": [
    "nass = pd.read_csv(\"../Data/NASS/NASSPeds-2000_2015.csv\")\n",
    "ciss = pd.read_csv(\"../Data/CISS/CISSPeds-2017_2018.csv\")\n",
    "\n",
    "# set year\n",
    "nass['dataset'] = \"NASS\"\n",
    "ciss['dataset'] = \"CISS\""
   ]
  },
  {
   "cell_type": "markdown",
   "metadata": {},
   "source": [
    "## Combine datasets"
   ]
  },
  {
   "cell_type": "code",
   "execution_count": 3,
   "metadata": {},
   "outputs": [],
   "source": [
    "# combine years\n",
    "peds = nass.append(ciss).reset_index(drop=True)"
   ]
  },
  {
   "cell_type": "code",
   "execution_count": 4,
   "metadata": {},
   "outputs": [
    {
     "name": "stdout",
     "output_type": "stream",
     "text": [
      "Total cases:  13560\n",
      "Total cases (weighted):  6225662.612867111\n",
      "ISS>=16:  678\n",
      "ISS>=16 (weighted):  79763.68413127595\n",
      "ISS<16:  12882\n",
      "ISS<16 (weighted):  6145898.928735835\n"
     ]
    }
   ],
   "source": [
    "# number of cases\n",
    "print(\"Total cases: \", len(peds))\n",
    "print(\"Total cases (weighted): \", peds.casewgt.sum())\n",
    "\n",
    "# number of injury cases\n",
    "print(\"ISS>=16: \", len(peds[peds.iss>=16]))\n",
    "print(\"ISS>=16 (weighted): \", peds[peds.iss>=16].casewgt.sum())\n",
    "\n",
    "# number of non-injury cases\n",
    "print(\"ISS<16: \", len(peds[peds.iss<16]))\n",
    "print(\"ISS<16 (weighted): \", peds[peds.iss<16].casewgt.sum())"
   ]
  },
  {
   "cell_type": "code",
   "execution_count": 5,
   "metadata": {},
   "outputs": [
    {
     "data": {
      "text/plain": [
       "0.9871878705930597"
      ]
     },
     "execution_count": 5,
     "metadata": {},
     "output_type": "execute_result"
    }
   ],
   "source": [
    "6145899/6225663"
   ]
  },
  {
   "cell_type": "markdown",
   "metadata": {},
   "source": [
    "## Add age groups\n",
    "Based on development designations by Doud et al."
   ]
  },
  {
   "cell_type": "code",
   "execution_count": 6,
   "metadata": {},
   "outputs": [],
   "source": [
    "# age groups\n",
    "age_labels = ['0_4','5_9','10_14','15_18']\n",
    "\n",
    "# cut based on groups\n",
    "peds['age_cat']=pd.cut(peds['age'],bins=[-1,4,9,14,18],labels=age_labels)\n",
    "\n",
    "# add one-hot encoding of ages\n",
    "peds = peds.join(pd.get_dummies(peds.age_cat,prefix=\"age\"))"
   ]
  },
  {
   "cell_type": "markdown",
   "metadata": {},
   "source": [
    "## Make sex binary (male=0, female=1)"
   ]
  },
  {
   "cell_type": "code",
   "execution_count": 7,
   "metadata": {},
   "outputs": [],
   "source": [
    "peds['sex'] = peds.apply(lambda x: 1 if (x['sex']>=2) else 0, axis=1)"
   ]
  },
  {
   "cell_type": "markdown",
   "metadata": {},
   "source": [
    "## Make variable for front row (versus all other rows)"
   ]
  },
  {
   "cell_type": "code",
   "execution_count": 8,
   "metadata": {},
   "outputs": [],
   "source": [
    "peds['front_row'] = peds.apply(lambda x: 0 if (x['seat_row']>=2) else 1, axis=1)"
   ]
  },
  {
   "cell_type": "markdown",
   "metadata": {},
   "source": [
    "## Add outcome flags "
   ]
  },
  {
   "cell_type": "code",
   "execution_count": 9,
   "metadata": {},
   "outputs": [],
   "source": [
    "# AIS 2+ \n",
    "peds['mais_head2'] = peds.apply(lambda x: 1 if (x['mais_head']>=2) else 0, axis=1)\n",
    "peds['mais_thorax2'] = peds.apply(lambda x: 1 if (x['mais_thorax']>=2) else 0, axis=1)\n",
    "peds['mais_abd2'] = peds.apply(lambda x: 1 if (x['mais_abd']>=2) else 0, axis=1)\n",
    "peds['mais2'] = peds.apply(lambda x: 1 if ((x['mais_head']>=2)|(x['mais_thorax']>=2)|(x['mais_abd']>=2)) else 0, axis=1)\n",
    "\n",
    "# AIS 3+ \n",
    "peds['mais_head3'] = peds.apply(lambda x: 1 if (x['mais_head']>=3) else 0, axis=1)\n",
    "peds['mais_thorax3'] = peds.apply(lambda x: 1 if (x['mais_thorax']>=3) else 0, axis=1)\n",
    "peds['mais_abd3'] = peds.apply(lambda x: 1 if (x['mais_abd']>=3) else 0, axis=1)\n",
    "peds['mais3'] = peds.apply(lambda x: 1 if ((x['mais_head']>=3)|(x['mais_thorax']>=3)|(x['mais_abd']>=3)) else 0, axis=1)\n",
    "\n",
    "peds['iss24' ] = peds.apply(lambda x: 1 if (x['iss']>=24) else 0, axis=1)"
   ]
  },
  {
   "cell_type": "markdown",
   "metadata": {},
   "source": [
    "## Add folds\n",
    "Add fold for each age group in dataset so there are approximately the same number of cases from each age group in each fold.  This is done separately for each dataset.  Folds are created for 10x and 5x crossvalidation."
   ]
  },
  {
   "cell_type": "code",
   "execution_count": 10,
   "metadata": {},
   "outputs": [],
   "source": [
    "num_folds = 10\n",
    "\n",
    "# initial fold column\n",
    "folds = pd.Series(-1).repeat(len(peds)).reset_index(drop=True)\n",
    "\n",
    "# set up k-fold generator\n",
    "kf = KFold(n_splits=num_folds, shuffle=True, random_state=42)\n",
    "\n",
    "# loop through each age group and dataset\n",
    "for ages in age_labels:\n",
    "    for db in ['NASS','CISS']:\n",
    "        # get subset of data to create folds\n",
    "        dat_subset = peds[(peds['age_cat']==ages) & (peds['dataset']==db)]\n",
    "    \n",
    "        # get indices for samples\n",
    "        sub_idx = peds.index[(peds['age_cat']==ages) & (peds['dataset']==db)]\n",
    "    \n",
    "        # get splits for nass\n",
    "        kf.get_n_splits(dat_subset)\n",
    "        \n",
    "        # interate through folds and assign fold number to cases\n",
    "        for i,row_list in enumerate(kf.split(dat_subset)):\n",
    "            folds.loc[sub_idx[row_list[1]]] = i\n",
    "    \n",
    "peds['fold10x'] = folds\n",
    "peds['fold5x'] = folds % 5"
   ]
  },
  {
   "cell_type": "markdown",
   "metadata": {},
   "source": [
    "## Store data"
   ]
  },
  {
   "cell_type": "code",
   "execution_count": 11,
   "metadata": {},
   "outputs": [],
   "source": [
    "peds.to_csv(\"../Data/Peds-2010_2018.csv\", index=False)"
   ]
  },
  {
   "cell_type": "code",
   "execution_count": null,
   "metadata": {},
   "outputs": [],
   "source": []
  }
 ],
 "metadata": {
  "kernelspec": {
   "display_name": "Python 3",
   "language": "python",
   "name": "python3"
  },
  "language_info": {
   "codemirror_mode": {
    "name": "ipython",
    "version": 3
   },
   "file_extension": ".py",
   "mimetype": "text/x-python",
   "name": "python",
   "nbconvert_exporter": "python",
   "pygments_lexer": "ipython3",
   "version": "3.7.3"
  }
 },
 "nbformat": 4,
 "nbformat_minor": 4
}
