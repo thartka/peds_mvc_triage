{
 "cells": [
  {
   "cell_type": "markdown",
   "metadata": {},
   "source": [
    "## Project: Development of a reduced pediatric injury prediction model\n",
    "Created by: Thomas Hartka, MD, MS  \n",
    "Date created: 12/18/20  \n",
    "  \n",
    "This notebook reads in the results of the all combinations modeling and performs Bayesian model averaging."
   ]
  },
  {
   "cell_type": "code",
   "execution_count": 1,
   "metadata": {},
   "outputs": [],
   "source": [
    "import numpy as np\n",
    "import pandas as pd\n",
    "from sklearn.linear_model import LogisticRegression\n",
    "from sklearn import metrics\n",
    "import scipy.stats as st\n",
    "import matplotlib.pyplot as plt\n",
    "from itertools import combinations"
   ]
  },
  {
   "cell_type": "markdown",
   "metadata": {},
   "source": [
    "## Set outcome"
   ]
  },
  {
   "cell_type": "code",
   "execution_count": 2,
   "metadata": {},
   "outputs": [],
   "source": [
    "# outcome of interest\n",
    "#  ISS -> ISS>=16\n",
    "#  TIL -> any injury on target injury list\n",
    "outcome = \"ISS\""
   ]
  },
  {
   "cell_type": "markdown",
   "metadata": {},
   "source": [
    "## Read in results"
   ]
  },
  {
   "cell_type": "code",
   "execution_count": 3,
   "metadata": {},
   "outputs": [],
   "source": [
    "if outcome == \"ISS\":\n",
    "    results = pd.read_csv(\"../Results/Model_avg_10x-ext_pred-ISS.csv\")\n",
    "elif outcome == \"TIL\":\n",
    "    results = pd.read_csv(\"../Results/Model_avg_10x-ext_pred-TIL.csv\")\n",
    "else:\n",
    "    raise Exception(\"Outcome not valid\") "
   ]
  },
  {
   "cell_type": "markdown",
   "metadata": {},
   "source": [
    "## Set variables"
   ]
  },
  {
   "cell_type": "code",
   "execution_count": 4,
   "metadata": {},
   "outputs": [],
   "source": [
    "predictors = ['sex','age_5_9', 'age_10_14','age_15_18',\n",
    "              'prop_restraint','any_restraint','front_row', \n",
    "              'dvtotal','pdof_rear','pdof_nearside','pdof_farside', \n",
    "              'rolled','multicoll','ejection',\n",
    "              'splimit','abdeply','entrapment']"
   ]
  },
  {
   "cell_type": "markdown",
   "metadata": {},
   "source": [
    "## Calculate mean AUC from cross-validation"
   ]
  },
  {
   "cell_type": "code",
   "execution_count": 5,
   "metadata": {},
   "outputs": [],
   "source": [
    "# convert coefficient to binary \n",
    "results_bin = results[predictors].applymap(lambda x: 1 if x!=0 else 0)\n",
    "\n",
    "# add AUC results into resultsm with binary coefficients\n",
    "results_bin['AUC'] = results.AUC\n",
    "\n",
    "# determine mean AUC for each model\n",
    "results_bin = results_bin.groupby(predictors).mean().reset_index()"
   ]
  },
  {
   "cell_type": "markdown",
   "metadata": {},
   "source": [
    "# Bayesian Model Averaging\n",
    "The following equation was used to perform BMA for this analysis:\n",
    "$$\n",
    "Pr(\\theta_i \\neq 0 |X) = \n",
    "\\frac{\n",
    "    Pr(X|\\theta_i \\neq 0)Pr(\\theta_i)\n",
    "}\n",
    "{\n",
    "\\sum^K_{k=1}\n",
    "    Pr(X|\\theta_k \\neq 0)Pr(\\theta_k)\n",
    "}\n",
    "\\quad\n",
    "\\quad\n",
    "\\text{\n",
    " Eqt. 1\n",
    "}$$"
   ]
  },
  {
   "cell_type": "markdown",
   "metadata": {},
   "source": [
    "Eqt 1 calculates the posterior probability that coefficient $\\theta_i$ for the variable $\\beta_i$ is non-zero, given data $X$.  We used a uniform posterior probabilities, so $Pr(\\theta_i)=Pr(\\theta_k)$ and these terms cancel out.  The marginal probability therefore reduces to the sum of the likelihoods for all variables.  \n",
    "  \n",
    "The likelihood of each variable was calculated by:\n",
    "\n",
    "$$\n",
    "Pr(X|\\theta_i \\neq 0) = \n",
    "\\sum_{M_l: \\beta_i \\in M_l}\n",
    "    Pr(X|M_l)\n",
    "\\quad\\quad\\text{Eqt. 2}$$"
   ]
  },
  {
   "cell_type": "markdown",
   "metadata": {},
   "source": [
    "Eqt 2. sums the probabilities of all models $M_l$ that contain the variable $\\beta_i$ .\n",
    "  \n",
    "The probability of the model given the data was calculated as:\n",
    "$$\n",
    "Pr(X|M_l) = \n",
    "\\frac{\n",
    "    AUC(M_l|X)-0.5\n",
    "}\n",
    "{\n",
    "    0.5\n",
    "} \n",
    "= \n",
    "2 \\cdot AUC(M_l|X)-1\n",
    "\\quad\\quad\\text{Eqt. 3}$$"
   ]
  },
  {
   "cell_type": "markdown",
   "metadata": {},
   "source": [
    "This adjustment to AUC was performed since an AUC of 0.5 represents a model with no discriminatory ability.  Eqt 3. normalizes these probabilities to values between 0.0 and 1.0.  \n",
    "  \n",
    "By combine these equations, we can rewrite posterior probability from Eqt. 1 as:\n",
    "\n",
    "$$\n",
    "Pr(\\theta_i \\neq 0 |X) = \n",
    "\\frac{\n",
    "    \\sum_{M_l: \\beta_i \\in M_l}\n",
    "        [2 \\cdot AUC(M_l|X)-1]\n",
    "}\n",
    "{\n",
    "\\sum^K_{k=1}\n",
    "    \\sum_{M_l: \\beta_k \\in M_l}\n",
    "        [2 \\cdot AUC(M_l|X)-1]\n",
    "}\n",
    "\\quad\n",
    "\\quad\n",
    "\\text{\n",
    " Eqt. 4\n",
    "}$$"
   ]
  },
  {
   "cell_type": "markdown",
   "metadata": {},
   "source": [
    "## Calculate Likelihoods\n",
    "  \n",
    "The likelihood is determined by the sum of the discriminatory power of all models containing a variable.  "
   ]
  },
  {
   "cell_type": "code",
   "execution_count": 6,
   "metadata": {},
   "outputs": [],
   "source": [
    "# subtract 0.5 to get discriminary ability\n",
    "results_bin['discrim'] = (2*results_bin.AUC)-1\n",
    "\n",
    "# insert discriminatory values into variable positions\n",
    "discrim = results_bin[predictors].mul(results_bin.discrim, axis=0)"
   ]
  },
  {
   "cell_type": "code",
   "execution_count": 7,
   "metadata": {},
   "outputs": [],
   "source": [
    "# determine number of variables in each model\n",
    "results_bin['num_vars'] = np.sum(results_bin.iloc[:,0:len(predictors)],axis=1)\n",
    "\n",
    "# sum the likelihoods values for all variables\n",
    "bf_sum = np.sum(results_bin.discrim * results_bin.num_vars)"
   ]
  },
  {
   "cell_type": "markdown",
   "metadata": {},
   "source": [
    "## Find posterior probabilities"
   ]
  },
  {
   "cell_type": "markdown",
   "metadata": {},
   "source": [
    "The posterior probability for each variable was determined by the equation:\n"
   ]
  },
  {
   "cell_type": "code",
   "execution_count": 8,
   "metadata": {},
   "outputs": [
    {
     "data": {
      "text/html": [
       "<div>\n",
       "<style scoped>\n",
       "    .dataframe tbody tr th:only-of-type {\n",
       "        vertical-align: middle;\n",
       "    }\n",
       "\n",
       "    .dataframe tbody tr th {\n",
       "        vertical-align: top;\n",
       "    }\n",
       "\n",
       "    .dataframe thead th {\n",
       "        text-align: right;\n",
       "    }\n",
       "</style>\n",
       "<table border=\"1\" class=\"dataframe\">\n",
       "  <thead>\n",
       "    <tr style=\"text-align: right;\">\n",
       "      <th></th>\n",
       "      <th>post_prob</th>\n",
       "    </tr>\n",
       "  </thead>\n",
       "  <tbody>\n",
       "    <tr>\n",
       "      <th>dvtotal</th>\n",
       "      <td>0.068915</td>\n",
       "    </tr>\n",
       "    <tr>\n",
       "      <th>ejection</th>\n",
       "      <td>0.059512</td>\n",
       "    </tr>\n",
       "    <tr>\n",
       "      <th>any_restraint</th>\n",
       "      <td>0.059482</td>\n",
       "    </tr>\n",
       "    <tr>\n",
       "      <th>entrapment</th>\n",
       "      <td>0.059461</td>\n",
       "    </tr>\n",
       "    <tr>\n",
       "      <th>rolled</th>\n",
       "      <td>0.059083</td>\n",
       "    </tr>\n",
       "    <tr>\n",
       "      <th>multicoll</th>\n",
       "      <td>0.058459</td>\n",
       "    </tr>\n",
       "    <tr>\n",
       "      <th>prop_restraint</th>\n",
       "      <td>0.058213</td>\n",
       "    </tr>\n",
       "    <tr>\n",
       "      <th>pdof_farside</th>\n",
       "      <td>0.058018</td>\n",
       "    </tr>\n",
       "    <tr>\n",
       "      <th>pdof_nearside</th>\n",
       "      <td>0.057970</td>\n",
       "    </tr>\n",
       "    <tr>\n",
       "      <th>splimit</th>\n",
       "      <td>0.057921</td>\n",
       "    </tr>\n",
       "    <tr>\n",
       "      <th>age_15_18</th>\n",
       "      <td>0.057782</td>\n",
       "    </tr>\n",
       "    <tr>\n",
       "      <th>abdeply</th>\n",
       "      <td>0.057689</td>\n",
       "    </tr>\n",
       "    <tr>\n",
       "      <th>front_row</th>\n",
       "      <td>0.057562</td>\n",
       "    </tr>\n",
       "    <tr>\n",
       "      <th>age_5_9</th>\n",
       "      <td>0.057534</td>\n",
       "    </tr>\n",
       "    <tr>\n",
       "      <th>sex</th>\n",
       "      <td>0.057511</td>\n",
       "    </tr>\n",
       "    <tr>\n",
       "      <th>age_10_14</th>\n",
       "      <td>0.057462</td>\n",
       "    </tr>\n",
       "    <tr>\n",
       "      <th>pdof_rear</th>\n",
       "      <td>0.057425</td>\n",
       "    </tr>\n",
       "  </tbody>\n",
       "</table>\n",
       "</div>"
      ],
      "text/plain": [
       "                post_prob\n",
       "dvtotal          0.068915\n",
       "ejection         0.059512\n",
       "any_restraint    0.059482\n",
       "entrapment       0.059461\n",
       "rolled           0.059083\n",
       "multicoll        0.058459\n",
       "prop_restraint   0.058213\n",
       "pdof_farside     0.058018\n",
       "pdof_nearside    0.057970\n",
       "splimit          0.057921\n",
       "age_15_18        0.057782\n",
       "abdeply          0.057689\n",
       "front_row        0.057562\n",
       "age_5_9          0.057534\n",
       "sex              0.057511\n",
       "age_10_14        0.057462\n",
       "pdof_rear        0.057425"
      ]
     },
     "execution_count": 8,
     "metadata": {},
     "output_type": "execute_result"
    }
   ],
   "source": [
    "# find posterior prob for each variable\n",
    "post_prob = discrim.sum()/bf_sum\n",
    "\n",
    "# get ordered list\n",
    "post_prob = pd.DataFrame(post_prob).rename(columns={0:'post_prob'}).sort_values('post_prob', ascending=False)\n",
    "\n",
    "post_prob"
   ]
  },
  {
   "cell_type": "code",
   "execution_count": 9,
   "metadata": {},
   "outputs": [],
   "source": [
    "# make index column and rename\n",
    "post_prob = post_prob.reset_index().rename(columns={'index':'variable'})"
   ]
  },
  {
   "cell_type": "markdown",
   "metadata": {},
   "source": [
    "## Store results"
   ]
  },
  {
   "cell_type": "code",
   "execution_count": 10,
   "metadata": {},
   "outputs": [],
   "source": [
    "post_prob.to_csv(\"../Results/Var_prob_10x-ext_pred-\"+outcome+\".csv\",index=False)"
   ]
  },
  {
   "cell_type": "code",
   "execution_count": null,
   "metadata": {},
   "outputs": [],
   "source": []
  }
 ],
 "metadata": {
  "kernelspec": {
   "display_name": "Python 3",
   "language": "python",
   "name": "python3"
  },
  "language_info": {
   "codemirror_mode": {
    "name": "ipython",
    "version": 3
   },
   "file_extension": ".py",
   "mimetype": "text/x-python",
   "name": "python",
   "nbconvert_exporter": "python",
   "pygments_lexer": "ipython3",
   "version": "3.6.7"
  }
 },
 "nbformat": 4,
 "nbformat_minor": 2
}
