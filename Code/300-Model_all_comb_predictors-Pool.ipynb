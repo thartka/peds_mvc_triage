{
 "cells": [
  {
   "cell_type": "markdown",
   "metadata": {},
   "source": [
    "## Project: Development of a reduced pediatric injury prediction model\n",
    "Created by: Thomas Hartka, MD, MS  \n",
    "Date created: 12/14/20  \n",
    "  \n",
    "This notebook performs cross-validation on all combinations of predictors for predicting severe injury for pediatric patients.  AUC is recorded for each run of ten-fold cross-validation."
   ]
  },
  {
   "cell_type": "code",
   "execution_count": 101,
   "metadata": {},
   "outputs": [],
   "source": [
    "import numpy as np\n",
    "import pandas as pd\n",
    "from sklearn.linear_model import LogisticRegression\n",
    "from sklearn import metrics\n",
    "import scipy.stats as st\n",
    "import matplotlib.pyplot as plt\n",
    "from itertools import combinations\n",
    "import datetime\n",
    "from multiprocessing import Process, Queue\n",
    "import multiprocessing"
   ]
  },
  {
   "cell_type": "markdown",
   "metadata": {},
   "source": [
    "## Set outcome"
   ]
  },
  {
   "cell_type": "code",
   "execution_count": 102,
   "metadata": {},
   "outputs": [],
   "source": [
    "# outcome of interest\n",
    "#  ISS -> ISS>=16\n",
    "#  TIL -> any injury on target injury list\n",
    "outcome = \"ISS\"\n",
    "\n",
    "filter_missing = True"
   ]
  },
  {
   "cell_type": "markdown",
   "metadata": {},
   "source": [
    "## Read in data"
   ]
  },
  {
   "cell_type": "code",
   "execution_count": 122,
   "metadata": {},
   "outputs": [],
   "source": [
    "peds = pd.read_csv(\"../Data/Peds-2010_2018-unfiltered.csv\")"
   ]
  },
  {
   "cell_type": "code",
   "execution_count": 123,
   "metadata": {},
   "outputs": [],
   "source": [
    "# filter out CISS cases if using TIL because TIL is only valid for AIS98\n",
    "if outcome == \"TIL\":\n",
    "    peds = peds[peds.dataset=='NASS']"
   ]
  },
  {
   "cell_type": "markdown",
   "metadata": {},
   "source": [
    "## Set variables"
   ]
  },
  {
   "cell_type": "code",
   "execution_count": 124,
   "metadata": {},
   "outputs": [],
   "source": [
    "predictors = ['sex','age_5_9', 'age_10_14','age_15_18',\n",
    "              'prop_restraint','any_restraint','front_row', \n",
    "              'dvtotal','pdof_rear','pdof_nearside','pdof_farside', \n",
    "              'rolled','multicoll','ejection',\n",
    "              'splimit','abdeply','entrapment']\n",
    "\n",
    "if outcome == \"ISS\":\n",
    "    response = 'iss16'\n",
    "elif outcome == \"TIL\":\n",
    "    response = 'target_inj'\n",
    "else:\n",
    "    raise Exception(\"Outcome not valid\") "
   ]
  },
  {
   "cell_type": "markdown",
   "metadata": {},
   "source": [
    "## Filter cases with missing data"
   ]
  },
  {
   "cell_type": "code",
   "execution_count": 118,
   "metadata": {},
   "outputs": [],
   "source": [
    "# filter cases with missing values\n",
    "if filter_missing:\n",
    "    # columns we care about\n",
    "    missing_cols = ['sex','dvtotal','pdof_front','rolled','prop_restraint','any_restraint','splimit', response]\n",
    "    \n",
    "    # remove rows with missing values\n",
    "    peds = peds[peds[missing_cols].notna().all(1)].reset_index(drop=True)"
   ]
  },
  {
   "cell_type": "code",
   "execution_count": 119,
   "metadata": {},
   "outputs": [
    {
     "data": {
      "text/plain": [
       "13653"
      ]
     },
     "execution_count": 119,
     "metadata": {},
     "output_type": "execute_result"
    }
   ],
   "source": [
    "len(peds)"
   ]
  },
  {
   "cell_type": "markdown",
   "metadata": {},
   "source": [
    "## Scale variables"
   ]
  },
  {
   "cell_type": "code",
   "execution_count": 7,
   "metadata": {},
   "outputs": [
    {
     "name": "stdout",
     "output_type": "stream",
     "text": [
      "sex  is binary\n",
      "age_5_9  is binary\n",
      "age_10_14  is binary\n",
      "age_15_18  is binary\n",
      "prop_restraint  is binary\n",
      "any_restraint  is binary\n",
      "front_row  is binary\n",
      "dvtotal  is continuous\n",
      "pdof_rear  is binary\n",
      "pdof_nearside  is binary\n",
      "pdof_farside  is binary\n",
      "rolled  is binary\n",
      "multicoll  is binary\n",
      "ejection  is binary\n",
      "splimit  is continuous\n",
      "abdeply  is binary\n",
      "entrapment  is binary\n"
     ]
    }
   ],
   "source": [
    "# scale variables\n",
    "peds_scale = peds[predictors + [response] + ['fold5x','fold10x']].copy()\n",
    "for key in predictors:\n",
    "    if not all([i in [0,1] for i in peds[key].unique()]):\n",
    "        peds_scale[key] = peds_scale[key] - np.mean(peds_scale[key])\n",
    "        peds_scale[key] = peds_scale[key] / np.std(peds_scale[key])\n",
    "        print(key, \" is continuous\")\n",
    "    else:\n",
    "        peds_scale[key] = peds_scale[key]\n",
    "        print(key, \" is binary\")"
   ]
  },
  {
   "cell_type": "markdown",
   "metadata": {},
   "source": [
    "## Cross validation logistic regression function"
   ]
  },
  {
   "cell_type": "code",
   "execution_count": 8,
   "metadata": {},
   "outputs": [],
   "source": [
    "def log_reg_cv(data, predictors, response, fold_col, num_vars):\n",
    "    '''\n",
    "    This function performs lass regression using folds specified in the \n",
    "    data set in a 'fold' column.  It returns a dataframe with the coefficients\n",
    "    for each fold and auc.\n",
    "    \n",
    "    Parameters:\n",
    "        data - data to analyze\n",
    "        predictors - list of columns for predictors\n",
    "        response - outcome column\n",
    "        fold_col - folds column\n",
    "    Returns:\n",
    "        cofficient/AUC - DataFrame(contains AUC, fold, cofficients for model)\n",
    "    '''\n",
    "    \n",
    "    # get folds\n",
    "    folds = np.sort(data[fold_col].unique())\n",
    "    \n",
    "    # create dataframe for results\n",
    "    results = pd.DataFrame(columns=['num_vars','fold']+predictors+['AUC'])\n",
    "    \n",
    "    # set up LR model\n",
    "    lr_mod = LogisticRegression(random_state=1819, penalty='none',solver='saga',max_iter=1000)\n",
    "    \n",
    "    # loop through folds\n",
    "    for fold in folds:\n",
    "        # separate fold train/test data\n",
    "        train = data[data[fold_col]!=fold]\n",
    "        test = data[data[fold_col]==fold]\n",
    "\n",
    "        # fit regression model\n",
    "        lr_fit = lr_mod.fit(train[predictors], train[response])\n",
    "\n",
    "        # predict on fold test data\n",
    "        pred = lr_fit.predict_proba(test[predictors])\n",
    "\n",
    "        # calc AUC\n",
    "        fpr, tpr, thresholds = metrics.roc_curve(test[response], pred[:,1], pos_label=1)\n",
    "        AUC = metrics.auc(fpr, tpr)\n",
    "\n",
    "        # gather results\n",
    "        fold_results = [num_vars, fold]\n",
    "        for i,var in enumerate(predictors):\n",
    "            fold_results.append(lr_fit.coef_[0,i])\n",
    "        fold_results += [AUC]\n",
    "\n",
    "        # store AUC\n",
    "        fold_series = pd.Series(fold_results, index = results.columns)\n",
    "        results = results.append(fold_series, ignore_index=True)\n",
    "    \n",
    "    \n",
    "    return results\n",
    "    #queue.put(results)\n",
    "    #exit(results)"
   ]
  },
  {
   "cell_type": "markdown",
   "metadata": {},
   "source": [
    "## Run regressions"
   ]
  },
  {
   "cell_type": "code",
   "execution_count": 9,
   "metadata": {},
   "outputs": [],
   "source": [
    "def helper_reg(comb):\n",
    "    #print(type(comb), list(comb))\n",
    "    return log_reg_cv(peds_scale, list(comb), response, 'fold10x',len(comb))"
   ]
  },
  {
   "cell_type": "code",
   "execution_count": null,
   "metadata": {},
   "outputs": [
    {
     "name": "stdout",
     "output_type": "stream",
     "text": [
      "Predictors:  1\n",
      "2021-05-20 10:07:47.569224\n",
      "Predictors:  2\n",
      "2021-05-20 10:07:48.601209\n",
      "Predictors:  3\n",
      "2021-05-20 10:07:54.112208\n",
      "Predictors:  4\n",
      "2021-05-20 10:08:19.869759\n",
      "Predictors:  5\n",
      "2021-05-20 10:09:52.304573\n",
      "Predictors:  6\n",
      "2021-05-20 10:17:00.015218\n"
     ]
    }
   ],
   "source": [
    "%%time\n",
    "\n",
    "results = pd.DataFrame(columns=['num_vars','fold']+predictors+['AUC'])\n",
    "\n",
    "# loop through number of variables\n",
    "for i in range(1,len(predictors)+1):\n",
    "    print(\"Predictors: \", i)\n",
    "    print(datetime.datetime.now())    \n",
    "    \n",
    "    params = []\n",
    "    \n",
    "    # loop through all combinations with i variables\n",
    "    for comb in combinations(predictors,i):\n",
    "        params.append(comb)\n",
    "        #print(comb)\n",
    "   \n",
    "    pool = multiprocessing.Pool(processes = 14)\n",
    "    results = results.append(pool.map(helper_reg, params), ignore_index=True, sort=True)\n",
    "    #res = pool.map(helper_reg, params)\n",
    "    \n",
    "    #if i>=4:\n",
    "    #    break\n",
    "    \n",
    "# replace missing cofficients with 0 and return results\n",
    "results = results.fillna(0)"
   ]
  },
  {
   "cell_type": "code",
   "execution_count": null,
   "metadata": {},
   "outputs": [],
   "source": [
    "results.tail(10)"
   ]
  },
  {
   "cell_type": "markdown",
   "metadata": {},
   "source": [
    "## Store results"
   ]
  },
  {
   "cell_type": "code",
   "execution_count": null,
   "metadata": {},
   "outputs": [],
   "source": [
    "results.to_csv(\"../Results/Model_avg_10x-ext_pred-\"+outcome+\".csv\",index=False)"
   ]
  },
  {
   "cell_type": "code",
   "execution_count": null,
   "metadata": {},
   "outputs": [],
   "source": []
  }
 ],
 "metadata": {
  "kernelspec": {
   "display_name": "Python 3",
   "language": "python",
   "name": "python3"
  },
  "language_info": {
   "codemirror_mode": {
    "name": "ipython",
    "version": 3
   },
   "file_extension": ".py",
   "mimetype": "text/x-python",
   "name": "python",
   "nbconvert_exporter": "python",
   "pygments_lexer": "ipython3",
   "version": "3.6.7"
  }
 },
 "nbformat": 4,
 "nbformat_minor": 4
}
