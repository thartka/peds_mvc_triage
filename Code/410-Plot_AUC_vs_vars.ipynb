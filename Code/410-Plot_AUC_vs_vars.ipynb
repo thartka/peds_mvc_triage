{
 "cells": [
  {
   "cell_type": "markdown",
   "metadata": {},
   "source": [
    "## Project: Development of a reduced pediatric injury prediction model\n",
    "Created by: Thomas Hartka, MD, MS  \n",
    "Date created: 12/20/20  \n",
    "  \n",
    "This notebook the maximum AUC for models with different numbers of variables.  We also create the same plot, but exclude delta-V as a predictor."
   ]
  },
  {
   "cell_type": "code",
   "execution_count": 1,
   "metadata": {},
   "outputs": [],
   "source": [
    "import numpy as np\n",
    "import pandas as pd\n",
    "import matplotlib.pyplot as plt\n",
    "from scipy import stats\n",
    "from matplotlib.ticker import FormatStrFormatter"
   ]
  },
  {
   "cell_type": "markdown",
   "metadata": {},
   "source": [
    "## Set outcome"
   ]
  },
  {
   "cell_type": "code",
   "execution_count": 2,
   "metadata": {},
   "outputs": [],
   "source": [
    "# outcome of interest\n",
    "#  ISS -> ISS>=16\n",
    "#  TIL -> any injury on target injury list\n",
    "outcome = \"ISS\""
   ]
  },
  {
   "cell_type": "markdown",
   "metadata": {},
   "source": [
    "## Read in results"
   ]
  },
  {
   "cell_type": "code",
   "execution_count": 3,
   "metadata": {},
   "outputs": [],
   "source": [
    "if outcome == \"ISS\":\n",
    "    results = pd.read_csv(\"../Results/Model_avg_10x-ISS.csv\")\n",
    "elif outcome == \"TIL\":\n",
    "    results = pd.read_csv(\"../Results/Model_avg_10x-TIL.csv\")\n",
    "else:\n",
    "    raise Exception(\"Outcome not valid\") "
   ]
  },
  {
   "cell_type": "code",
   "execution_count": 4,
   "metadata": {},
   "outputs": [],
   "source": [
    "predictors = ['sex','age_5_9', 'age_10_14','age_15_18',\n",
    "              'prop_restraint','no_restraint','front_row', \n",
    "              'dvtotal','pdof_rear','pdof_nearside','pdof_farside', \n",
    "              'rolled','multicoll','ejection']"
   ]
  },
  {
   "cell_type": "markdown",
   "metadata": {},
   "source": [
    "## Calculate mean and 95% CI of AUCs"
   ]
  },
  {
   "cell_type": "code",
   "execution_count": 5,
   "metadata": {},
   "outputs": [],
   "source": [
    "# copy into new dataframe for binary variables instead of coefficients\n",
    "results_bin = results.copy()\n",
    "\n",
    "# convert cofficients to binary flags\n",
    "results_bin[predictors] = results[predictors].applymap(lambda x: 1 if x!=0 else 0) "
   ]
  },
  {
   "cell_type": "code",
   "execution_count": 6,
   "metadata": {},
   "outputs": [
    {
     "data": {
      "text/html": [
       "<div>\n",
       "<style scoped>\n",
       "    .dataframe tbody tr th:only-of-type {\n",
       "        vertical-align: middle;\n",
       "    }\n",
       "\n",
       "    .dataframe tbody tr th {\n",
       "        vertical-align: top;\n",
       "    }\n",
       "\n",
       "    .dataframe thead th {\n",
       "        text-align: right;\n",
       "    }\n",
       "</style>\n",
       "<table border=\"1\" class=\"dataframe\">\n",
       "  <thead>\n",
       "    <tr style=\"text-align: right;\">\n",
       "      <th></th>\n",
       "      <th>num_vars</th>\n",
       "      <th>mean</th>\n",
       "      <th>LL</th>\n",
       "      <th>UL</th>\n",
       "    </tr>\n",
       "  </thead>\n",
       "  <tbody>\n",
       "    <tr>\n",
       "      <th>0</th>\n",
       "      <td>1.0</td>\n",
       "      <td>0.846434</td>\n",
       "      <td>0.805656</td>\n",
       "      <td>0.887212</td>\n",
       "    </tr>\n",
       "    <tr>\n",
       "      <th>1</th>\n",
       "      <td>2.0</td>\n",
       "      <td>0.881323</td>\n",
       "      <td>0.829801</td>\n",
       "      <td>0.932846</td>\n",
       "    </tr>\n",
       "    <tr>\n",
       "      <th>2</th>\n",
       "      <td>3.0</td>\n",
       "      <td>0.892314</td>\n",
       "      <td>0.837343</td>\n",
       "      <td>0.947285</td>\n",
       "    </tr>\n",
       "    <tr>\n",
       "      <th>3</th>\n",
       "      <td>4.0</td>\n",
       "      <td>0.899511</td>\n",
       "      <td>0.850443</td>\n",
       "      <td>0.948579</td>\n",
       "    </tr>\n",
       "    <tr>\n",
       "      <th>4</th>\n",
       "      <td>5.0</td>\n",
       "      <td>0.906390</td>\n",
       "      <td>0.863095</td>\n",
       "      <td>0.949685</td>\n",
       "    </tr>\n",
       "    <tr>\n",
       "      <th>5</th>\n",
       "      <td>6.0</td>\n",
       "      <td>0.907981</td>\n",
       "      <td>0.864773</td>\n",
       "      <td>0.951189</td>\n",
       "    </tr>\n",
       "    <tr>\n",
       "      <th>6</th>\n",
       "      <td>7.0</td>\n",
       "      <td>0.908532</td>\n",
       "      <td>0.866174</td>\n",
       "      <td>0.950889</td>\n",
       "    </tr>\n",
       "    <tr>\n",
       "      <th>7</th>\n",
       "      <td>8.0</td>\n",
       "      <td>0.908591</td>\n",
       "      <td>0.866121</td>\n",
       "      <td>0.951062</td>\n",
       "    </tr>\n",
       "    <tr>\n",
       "      <th>8</th>\n",
       "      <td>9.0</td>\n",
       "      <td>0.908486</td>\n",
       "      <td>0.866206</td>\n",
       "      <td>0.950766</td>\n",
       "    </tr>\n",
       "    <tr>\n",
       "      <th>9</th>\n",
       "      <td>10.0</td>\n",
       "      <td>0.908317</td>\n",
       "      <td>0.865695</td>\n",
       "      <td>0.950940</td>\n",
       "    </tr>\n",
       "    <tr>\n",
       "      <th>10</th>\n",
       "      <td>11.0</td>\n",
       "      <td>0.908144</td>\n",
       "      <td>0.865762</td>\n",
       "      <td>0.950527</td>\n",
       "    </tr>\n",
       "    <tr>\n",
       "      <th>11</th>\n",
       "      <td>12.0</td>\n",
       "      <td>0.907674</td>\n",
       "      <td>0.865039</td>\n",
       "      <td>0.950309</td>\n",
       "    </tr>\n",
       "    <tr>\n",
       "      <th>12</th>\n",
       "      <td>13.0</td>\n",
       "      <td>0.907358</td>\n",
       "      <td>0.864155</td>\n",
       "      <td>0.950562</td>\n",
       "    </tr>\n",
       "    <tr>\n",
       "      <th>13</th>\n",
       "      <td>14.0</td>\n",
       "      <td>0.906799</td>\n",
       "      <td>0.865776</td>\n",
       "      <td>0.947822</td>\n",
       "    </tr>\n",
       "  </tbody>\n",
       "</table>\n",
       "</div>"
      ],
      "text/plain": [
       "    num_vars      mean        LL        UL\n",
       "0        1.0  0.846434  0.805656  0.887212\n",
       "1        2.0  0.881323  0.829801  0.932846\n",
       "2        3.0  0.892314  0.837343  0.947285\n",
       "3        4.0  0.899511  0.850443  0.948579\n",
       "4        5.0  0.906390  0.863095  0.949685\n",
       "5        6.0  0.907981  0.864773  0.951189\n",
       "6        7.0  0.908532  0.866174  0.950889\n",
       "7        8.0  0.908591  0.866121  0.951062\n",
       "8        9.0  0.908486  0.866206  0.950766\n",
       "9       10.0  0.908317  0.865695  0.950940\n",
       "10      11.0  0.908144  0.865762  0.950527\n",
       "11      12.0  0.907674  0.865039  0.950309\n",
       "12      13.0  0.907358  0.864155  0.950562\n",
       "13      14.0  0.906799  0.865776  0.947822"
      ]
     },
     "execution_count": 6,
     "metadata": {},
     "output_type": "execute_result"
    }
   ],
   "source": [
    "# calculate mean and standard deviation of all models\n",
    "mean_AUC = results_bin.groupby(['num_vars']+predictors)['AUC'].agg(['mean', 'std'])\n",
    "\n",
    "# find max mean AUC for each number of variables and select for those rows\n",
    "max_idx = mean_AUC.groupby(['num_vars'])['mean'].transform(max) == mean_AUC['mean']\n",
    "max_AUC = mean_AUC[max_idx].reset_index()\n",
    "\n",
    "# calculate lower and upper 95% CI\n",
    "max_AUC['LL'] = max_AUC['mean'] - 1.96*max_AUC['std']\n",
    "max_AUC['UL'] = max_AUC['mean'] + 1.96*max_AUC['std']\n",
    "\n",
    "# discard unneeded columns\n",
    "max_AUC = max_AUC[['num_vars','mean','LL','UL']]\n",
    "\n",
    "max_AUC"
   ]
  },
  {
   "cell_type": "markdown",
   "metadata": {},
   "source": [
    "## Calculate stat significant decrease in AUC"
   ]
  },
  {
   "cell_type": "code",
   "execution_count": 7,
   "metadata": {},
   "outputs": [
    {
     "data": {
      "text/plain": [
       "[3.6407729089222502e-06,\n",
       " 0.00043068299769096407,\n",
       " 0.012872951504584949,\n",
       " 0.07172507707783758,\n",
       " 0.8755255633471195,\n",
       " 0.9668197246254963,\n",
       " 0.9710509852128767,\n",
       " 0.9685763714664746,\n",
       " 0.9926537250543378,\n",
       " 0.9999803635195508,\n",
       " 0.9919430465521915,\n",
       " 0.9925676534806721,\n",
       " 0.9310401278584225,\n",
       " 1.0]"
      ]
     },
     "execution_count": 7,
     "metadata": {},
     "output_type": "execute_result"
    }
   ],
   "source": [
    "# store base model results\n",
    "base_distrib = results_bin[results_bin.num_vars==14]['AUC']\n",
    "\n",
    "# create arrary for max p-values\n",
    "max_p = [0] * 14\n",
    "\n",
    "# group results by model\n",
    "results_grp = results_bin.groupby(['num_vars']+predictors)['AUC']\n",
    "\n",
    "# iterate through models\n",
    "for num_vars, model_results in results_grp:\n",
    "    # compare to baseline model\n",
    "    p = stats.ttest_rel(base_distrib, model_results).pvalue\n",
    "    \n",
    "    # test if this is the highest p-value\n",
    "    if p > max_p[num_vars[0].astype(int)-1]:\n",
    "        max_p[num_vars[0].astype(int)-1] = p\n",
    "    # if the distributions are identical\n",
    "    elif np.isnan(p):\n",
    "        max_p[num_vars[0].astype(int)-1] = 1.0\n",
    "\n",
    "max_p"
   ]
  },
  {
   "cell_type": "code",
   "execution_count": 8,
   "metadata": {},
   "outputs": [
    {
     "data": {
      "text/plain": [
       "3"
      ]
     },
     "execution_count": 8,
     "metadata": {},
     "output_type": "execute_result"
    }
   ],
   "source": [
    "# loop through variable numbers\n",
    "for i in range(0,len(predictors)):\n",
    "    \n",
    "    # check if best model is statistically sig different than base model\n",
    "    if max_p[i] > 0.05:\n",
    "        \n",
    "        # if so, store value and break\n",
    "        num_var_sd = i\n",
    "        break\n",
    "\n",
    "num_var_sd"
   ]
  },
  {
   "cell_type": "markdown",
   "metadata": {},
   "source": [
    "## Plot AUC versus number of variables"
   ]
  },
  {
   "cell_type": "code",
   "execution_count": 9,
   "metadata": {},
   "outputs": [
    {
     "data": {
      "image/png": "[encoded data removed]",
      "text/plain": [
       "<Figure size 432x360 with 1 Axes>"
      ]
     },
     "metadata": {},
     "output_type": "display_data"
    }
   ],
   "source": [
    "# set up plot\n",
    "fig = plt.figure(figsize=(6,5))\n",
    "ax = fig.add_subplot(111)\n",
    "\n",
    "# add data for line plot and 95% CI \n",
    "ax.plot(max_AUC['num_vars'], max_AUC['mean'], marker='', color='black', linewidth=2, alpha=1)\n",
    "ax.fill_between(max_AUC['num_vars'], max_AUC['LL'], max_AUC['UL'],color='black',alpha=0.25)\n",
    "\n",
    "# set plot limits\n",
    "plt.ylim(0.75, 1.0)\n",
    "plt.xlim(13, 1)\n",
    "\n",
    "# add line for statistically sign decrease in AUC\n",
    "ax.axvline(x=num_var_sd, linestyle='-', color='grey')\n",
    "\n",
    "# correct tick marks\n",
    "ax.set_xticks(max_AUC['num_vars'].unique())\n",
    "\n",
    "# label axes\n",
    "plt.xlabel('Number of variables in model', fontsize=12)\n",
    "plt.ylabel('Area Under Curve (AUC)', fontsize=12)\n",
    "\n",
    "# title\n",
    "if outcome == \"ISS\":\n",
    "    plt.title(\"ISS>=16\", fontsize=14)\n",
    "elif outcome == \"TIL\":\n",
    "    plt.title(\"Target injury list\", fontsize=14)\n",
    "\n",
    "plt.show()"
   ]
  },
  {
   "cell_type": "markdown",
   "metadata": {},
   "source": [
    "## Calculate AUC excluding models with delta-V"
   ]
  },
  {
   "cell_type": "code",
   "execution_count": 10,
   "metadata": {},
   "outputs": [],
   "source": [
    "# copy into new dataframe but only include models without delta-V\n",
    "results_bin_wo_dv = results[results.dvtotal==0].copy()\n",
    "\n",
    "# convert cofficients to binary flags\n",
    "results_bin_wo_dv[predictors] = results_bin_wo_dv[predictors].applymap(lambda x: 1 if x!=0 else 0) \n",
    "\n",
    "# calculate mean and standard deviation of all models\n",
    "mean_AUC_wo_dv = results_bin_wo_dv.groupby(['num_vars']+predictors)['AUC'].agg(['mean', 'std'])\n",
    "\n",
    "# find max mean AUC for each number of variables and select for those rows\n",
    "max_idx_wo_dv = mean_AUC_wo_dv.groupby(['num_vars'])['mean'].transform(max) == mean_AUC_wo_dv['mean']\n",
    "max_AUC_wo_dv = mean_AUC_wo_dv[max_idx_wo_dv].reset_index()\n",
    "\n",
    "# calculate lower and upper 95% CI\n",
    "max_AUC_wo_dv['LL'] = max_AUC_wo_dv['mean'] - 1.96*max_AUC_wo_dv['std']\n",
    "max_AUC_wo_dv['UL'] = max_AUC_wo_dv['mean'] + 1.96*max_AUC_wo_dv['std']"
   ]
  },
  {
   "cell_type": "markdown",
   "metadata": {},
   "source": [
    "## Calculate stat significant decrease in AUC excluding delta-V"
   ]
  },
  {
   "cell_type": "code",
   "execution_count": 11,
   "metadata": {},
   "outputs": [
    {
     "data": {
      "text/plain": [
       "[2.5047705022339425e-06,\n",
       " 2.157576826577909e-05,\n",
       " 0.00014429311865128087,\n",
       " 0.0049728958275136615,\n",
       " 0.06111084643723168,\n",
       " 0.2498417184466346,\n",
       " 0.7657103840705277,\n",
       " 0.7403021769713932,\n",
       " 0.9165241311534569,\n",
       " 0.9907385820399552,\n",
       " 0.9874971657628167,\n",
       " 0.9566555000602217,\n",
       " 1.0]"
      ]
     },
     "execution_count": 11,
     "metadata": {},
     "output_type": "execute_result"
    }
   ],
   "source": [
    "# store base model results\n",
    "base_distrib = results_bin_wo_dv[results_bin_wo_dv.num_vars==13]['AUC']\n",
    "\n",
    "# create arrary for max p-values\n",
    "max_p_wo_dv = [0] * 13\n",
    "\n",
    "# group results by model\n",
    "results_grp = results_bin_wo_dv.groupby(['num_vars']+predictors)['AUC']\n",
    "\n",
    "# iterate through models\n",
    "for num_vars, model_results in results_grp:\n",
    "    # compare to baseline model\n",
    "    p = stats.ttest_rel(base_distrib, model_results).pvalue\n",
    "    \n",
    "    # test if this is the highest p-value\n",
    "    if p > max_p_wo_dv[num_vars[0].astype(int)-1]:\n",
    "        max_p_wo_dv[num_vars[0].astype(int)-1] = p\n",
    "    # if the distributions are identical\n",
    "    elif np.isnan(p):\n",
    "        max_p_wo_dv[num_vars[0].astype(int)-1] = 1.0\n",
    "\n",
    "max_p_wo_dv"
   ]
  },
  {
   "cell_type": "code",
   "execution_count": 12,
   "metadata": {},
   "outputs": [
    {
     "data": {
      "text/plain": [
       "4"
      ]
     },
     "execution_count": 12,
     "metadata": {},
     "output_type": "execute_result"
    }
   ],
   "source": [
    "# loop through variable numbers\n",
    "for i in range(0,len(predictors)-1):\n",
    "    \n",
    "    # check if best model is statistically sig different than base model\n",
    "    if max_p_wo_dv[i] > 0.05:\n",
    "        \n",
    "        # if so, store value and break\n",
    "        num_var_sd_wo_dv = i\n",
    "        break\n",
    "\n",
    "num_var_sd_wo_dv"
   ]
  },
  {
   "cell_type": "markdown",
   "metadata": {},
   "source": [
    "## Plot AUC vs variable number excluding delta-V"
   ]
  },
  {
   "cell_type": "code",
   "execution_count": 14,
   "metadata": {},
   "outputs": [
    {
     "data": {
      "image/png": "[encoded data removed]",
      "text/plain": [
       "<Figure size 432x360 with 1 Axes>"
      ]
     },
     "metadata": {},
     "output_type": "display_data"
    }
   ],
   "source": [
    "# set up plot\n",
    "fig = plt.figure(figsize=(6,5))\n",
    "ax = fig.add_subplot(111)\n",
    "\n",
    "# add data for line plot and 95% CI \n",
    "ax.plot(max_AUC['num_vars'], max_AUC['mean'], color='black', linewidth=2, alpha=1, label='All models')\n",
    "ax.plot(max_AUC_wo_dv['num_vars'], max_AUC_wo_dv['mean'], linestyle='--', color='black', linewidth=2, alpha=1, label=\"Models excluding Delta-V\")\n",
    "ax.fill_between(max_AUC['num_vars'], max_AUC['LL'], max_AUC['UL'],color='black',alpha=0.25)\n",
    "ax.fill_between(max_AUC_wo_dv['num_vars'], max_AUC_wo_dv['LL'], max_AUC_wo_dv['UL'],color='black',alpha=0.25)\n",
    "#ax.fill_between(max_AUC_wo_dv['num_vars'], max_AUC_wo_dv['LL'], max_AUC_wo_dv['UL'],color='black',alpha=0.25,hatch=\"/\")\n",
    "\n",
    "# set plot limits\n",
    "plt.ylim(0.5, 1.0)\n",
    "plt.xlim(13, 1)\n",
    "\n",
    "# add line for statistically sign decrease in AUC\n",
    "ax.axvline(x=num_var_sd, linestyle='-', color='dimgrey')\n",
    "ax.axvline(x=num_var_sd_wo_dv, linestyle='--', color='dimgrey')\n",
    "\n",
    "# correct tick marks\n",
    "ax.set_xticks(max_AUC['num_vars'].unique())\n",
    "\n",
    "# add legend\n",
    "plt.legend(loc=\"lower left\")\n",
    "\n",
    "# label axes\n",
    "plt.xlabel('Number of variables in model', fontsize=12)\n",
    "plt.ylabel('Area Under Curve (AUC)', fontsize=12)\n",
    "\n",
    "# title\n",
    "if outcome == \"ISS\":\n",
    "    plt.title(\"ISS>=16\", fontsize=14)\n",
    "elif outcome == \"TIL\":\n",
    "    plt.title(\"Target injury list\", fontsize=14)\n",
    "\n",
    "plt.show()"
   ]
  },
  {
   "cell_type": "code",
   "execution_count": null,
   "metadata": {},
   "outputs": [],
   "source": []
  },
  {
   "cell_type": "code",
   "execution_count": null,
   "metadata": {},
   "outputs": [],
   "source": []
  }
 ],
 "metadata": {
  "kernelspec": {
   "display_name": "Python 3",
   "language": "python",
   "name": "python3"
  },
  "language_info": {
   "codemirror_mode": {
    "name": "ipython",
    "version": 3
   },
   "file_extension": ".py",
   "mimetype": "text/x-python",
   "name": "python",
   "nbconvert_exporter": "python",
   "pygments_lexer": "ipython3",
   "version": "3.6.5"
  }
 },
 "nbformat": 4,
 "nbformat_minor": 2
}
