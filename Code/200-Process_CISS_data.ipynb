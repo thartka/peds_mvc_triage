{
 "cells": [
  {
   "cell_type": "markdown",
   "metadata": {},
   "source": [
    "## Project: Development of a reduced pediatric injury prediction model\n",
    "Created by: Thomas Hartka, MD, MS  \n",
    "Date created: 12/3/20  \n",
    "  \n",
    "This notebook read in data from CISS, extracts necessary features and outcomes from specific tables, then combines the data into a single CSV.  "
   ]
  },
  {
   "cell_type": "code",
   "execution_count": 1,
   "metadata": {},
   "outputs": [],
   "source": [
    "import numpy as np\n",
    "import pandas as pd\n",
    "import math"
   ]
  },
  {
   "cell_type": "code",
   "execution_count": 2,
   "metadata": {},
   "outputs": [],
   "source": [
    "encode = 'iso-8859-1'"
   ]
  },
  {
   "cell_type": "markdown",
   "metadata": {},
   "source": [
    "## Read in crash data from CISS and extract features\n",
    "Determine if there were multiple collisions (more than one event), find highest DVTOTAL, and PDOF associated with highest DVTOTAL"
   ]
  },
  {
   "cell_type": "code",
   "execution_count": 3,
   "metadata": {},
   "outputs": [],
   "source": [
    "# add CDC data\n",
    "ciss_cdc17 = pd.read_csv(\"../Data/CISS/2017-Pilot/CDC.CSV\", encoding=encode)\n",
    "ciss_cdc18= pd.read_csv(\"../Data/CISS/2018/CDC.CSV\", encoding=encode)\n",
    "\n",
    "# set year\n",
    "ciss_cdc17['YEAR'] = 2017\n",
    "ciss_cdc18['YEAR'] = 2018\n",
    "\n",
    "# combine years\n",
    "ciss_cdc = ciss_cdc17.append(ciss_cdc18).reset_index()"
   ]
  },
  {
   "cell_type": "code",
   "execution_count": 4,
   "metadata": {},
   "outputs": [],
   "source": [
    "# create vehicle key\n",
    "ciss_cdc['VEH_KEY'] = ciss_cdc['CASENUMBER'].astype(str)  + \"_\" + ciss_cdc['VEHNO'].astype(str)  \n",
    "\n",
    "# change unknown to -999\n",
    "ciss_cdc['DVTOTAL'] = ciss_cdc.apply(lambda x: x['DVTOTAL'] if x['DVTOTAL']<999 else -999, axis=1)"
   ]
  },
  {
   "cell_type": "code",
   "execution_count": 5,
   "metadata": {},
   "outputs": [],
   "source": [
    "# get list of unique vehicles\n",
    "cdc = ciss_cdc[['VEH_KEY','CASENUMBER','VEHNO']].drop_duplicates().copy()"
   ]
  },
  {
   "cell_type": "code",
   "execution_count": 6,
   "metadata": {},
   "outputs": [],
   "source": [
    "# count number of impacts\n",
    "impacts = ciss_cdc.groupby('VEH_KEY').size()\n",
    "impacts = pd.DataFrame({'EVENTS':impacts}).reset_index()\n",
    "impacts['MULTICOLL'] = impacts.apply(lambda x: 1 if x['EVENTS'] > 1 else 0, axis=1)\n",
    "\n",
    "# join with cdc\n",
    "cdc = cdc.merge(impacts, how='left', on='VEH_KEY')"
   ]
  },
  {
   "cell_type": "code",
   "execution_count": 7,
   "metadata": {},
   "outputs": [],
   "source": [
    "# find highest DVTOTAL\n",
    "max_dv = ciss_cdc.groupby('VEH_KEY')['DVTOTAL'].max()\n",
    "max_dv = pd.DataFrame({'DVTOTAL':max_dv}).reset_index()\n",
    "\n",
    "# join with cdc\n",
    "cdc = cdc.merge(max_dv, how='left', on='VEH_KEY')"
   ]
  },
  {
   "cell_type": "code",
   "execution_count": 8,
   "metadata": {},
   "outputs": [],
   "source": [
    "# find PDOF associated with highest DVTOTAL\n",
    "idx = ciss_cdc.groupby('VEH_KEY')['DVTOTAL'].transform(max) == ciss_cdc['DVTOTAL']\n",
    "max_pdof = ciss_cdc[idx][['VEH_KEY','PDOF']]\n",
    "\n",
    "# join with cdc\n",
    "cdc = cdc.merge(max_pdof, how='left', on='VEH_KEY')"
   ]
  },
  {
   "cell_type": "markdown",
   "metadata": {},
   "source": [
    "## Read in GV data from CISS and join to crash data\n",
    "\n",
    "Develop rollover status, quarter turns, etc."
   ]
  },
  {
   "cell_type": "code",
   "execution_count": 9,
   "metadata": {},
   "outputs": [],
   "source": [
    "# get occupant data\n",
    "ciss_gv17 = pd.read_csv(\"../Data/CISS/2017-Pilot/GV.CSV\", encoding=encode)\n",
    "ciss_gv18= pd.read_csv(\"../Data/CISS/2018/GV.CSV\", encoding=encode)\n",
    "\n",
    "# set year\n",
    "ciss_gv17['YEAR'] = 2017\n",
    "ciss_gv18['YEAR'] = 2018\n",
    "\n",
    "ciss_gv = ciss_gv17.append(ciss_gv18).reset_index()"
   ]
  },
  {
   "cell_type": "code",
   "execution_count": 10,
   "metadata": {},
   "outputs": [],
   "source": [
    "# create vehicle key\n",
    "ciss_gv['VEH_KEY'] = ciss_gv['CASENUMBER'].astype(str)  + \"_\" + ciss_gv['VEHNO'].astype(str)  "
   ]
  },
  {
   "cell_type": "code",
   "execution_count": 11,
   "metadata": {},
   "outputs": [],
   "source": [
    "# change unknown to -99 and change name to ROLL_TURNS\n",
    "ciss_gv['ROLL_TURNS'] = ciss_gv.apply(lambda x: x['ROLLTURN'] if (x['ROLLTURN']<99) else -99, axis=1)\n",
    "\n",
    "# change end-over-end to 20\n",
    "ciss_gv['ROLL_TURNS'] = ciss_gv.apply(lambda x: x['ROLL_TURNS'] if (x['ROLL_TURNS']!=98) else 20, axis=1)\n",
    "\n",
    "# create rollover flag\n",
    "ciss_gv['ROLLED'] = ciss_gv.apply(lambda x: 1 if (x['ROLL_TURNS']>0) else 0, axis=1)"
   ]
  },
  {
   "cell_type": "code",
   "execution_count": 12,
   "metadata": {},
   "outputs": [],
   "source": [
    "# rename speed limit to match NASS\n",
    "ciss_gv = ciss_gv.rename(columns={'SPEEDLIMIT':'SPLIMIT'})\n",
    "\n",
    "# set 999 to nan\n",
    "ciss_gv['SPLIMIT'] = ciss_gv.apply(lambda x: x.SPLIMIT if (x.SPLIMIT!=999) else np.nan, axis=1)"
   ]
  },
  {
   "cell_type": "code",
   "execution_count": 13,
   "metadata": {},
   "outputs": [],
   "source": [
    "# merge quarter turns with cdc\n",
    "cdc = cdc.merge(ciss_gv[['VEH_KEY','ROLL_TURNS','ROLLED','SPLIMIT']], how='left', on='VEH_KEY')"
   ]
  },
  {
   "cell_type": "markdown",
   "metadata": {},
   "source": [
    "## Read in occupant data from CISS and join with crash data\n",
    "Store all occupant data initially."
   ]
  },
  {
   "cell_type": "code",
   "execution_count": 14,
   "metadata": {},
   "outputs": [],
   "source": [
    "# get occupant data\n",
    "ciss_occ17 = pd.read_csv(\"../Data/CISS/2017-Pilot/OCC.CSV\", encoding=encode)\n",
    "ciss_occ18= pd.read_csv(\"../Data/CISS/2018/OCC.CSV\", encoding=encode)\n",
    "\n",
    "# set year\n",
    "ciss_occ17['YEAR'] = 2017\n",
    "ciss_occ18['YEAR'] = 2018\n",
    "\n",
    "ciss = ciss_occ17.append(ciss_occ18).reset_index()"
   ]
  },
  {
   "cell_type": "code",
   "execution_count": 15,
   "metadata": {},
   "outputs": [],
   "source": [
    "# create key\n",
    "ciss['KEY'] = ciss[\"YEAR\"].astype(str) + \"_\" + ciss[\"PSU\"].astype(str) + \"_\" + ciss[\"CASENO\"].astype(str) + \"_\"\\\n",
    "                + ciss[\"VEHNO\"].astype(str) + \"_\" + ciss[\"OCCNO\"].astype(str)\n",
    "\n",
    "# create vehicle key\n",
    "ciss['VEH_KEY'] = ciss['CASENUMBER'].astype(str)  + \"_\" + ciss['VEHNO'].astype(str)  "
   ]
  },
  {
   "cell_type": "code",
   "execution_count": 16,
   "metadata": {},
   "outputs": [],
   "source": [
    "# join with crash data\n",
    "ciss = ciss.merge(cdc.drop(columns=['CASENUMBER','VEHNO']), how='left', on='VEH_KEY')"
   ]
  },
  {
   "cell_type": "code",
   "execution_count": 17,
   "metadata": {},
   "outputs": [],
   "source": [
    "ciss['ENTRAPMENT'] = ciss.apply(lambda x: 1 if (x['ENTRAP'] in [1,2,3]) else 0, axis=1)"
   ]
  },
  {
   "cell_type": "markdown",
   "metadata": {},
   "source": [
    "## Read in child seat data and add to occupants"
   ]
  },
  {
   "cell_type": "code",
   "execution_count": 18,
   "metadata": {},
   "outputs": [],
   "source": [
    "# get occupant data\n",
    "ciss_cs17 = pd.read_csv(\"../Data/CISS/2017-Pilot/CHILDSEAT.CSV\", encoding=encode)\n",
    "ciss_cs18= pd.read_csv(\"../Data/CISS/2018/CHILDSEAT.CSV\", encoding=encode)\n",
    "\n",
    "# set year\n",
    "ciss_cs17['YEAR'] = 2017\n",
    "ciss_cs18['YEAR'] = 2018\n",
    "\n",
    "ciss_cs = ciss_cs17.append(ciss_cs18).reset_index()"
   ]
  },
  {
   "cell_type": "code",
   "execution_count": 19,
   "metadata": {},
   "outputs": [],
   "source": [
    "# remove case with unknown occupant in child seat\n",
    "ciss_cs=ciss_cs[~ciss_cs.OCCNO.isna()]"
   ]
  },
  {
   "cell_type": "code",
   "execution_count": 20,
   "metadata": {},
   "outputs": [],
   "source": [
    "# create key\n",
    "ciss_cs['KEY'] = ciss_cs[\"YEAR\"].astype(str) + \"_\" + ciss_cs[\"PSU\"].astype(str) + \"_\" + ciss_cs[\"CASENO\"].astype(str) + \"_\"\\\n",
    "                + ciss_cs[\"VEHNO\"].astype(str) + \"_\" + ciss_cs[\"OCCNO\"].astype(int).astype(str)"
   ]
  },
  {
   "cell_type": "code",
   "execution_count": 21,
   "metadata": {},
   "outputs": [],
   "source": [
    "# join with crash data\n",
    "ciss = ciss.merge(ciss_cs[['KEY','ORIENTATION','CHILDSEATYPE']], how='left', on='KEY')"
   ]
  },
  {
   "cell_type": "markdown",
   "metadata": {},
   "source": [
    "## Determine death and death in same compartment"
   ]
  },
  {
   "cell_type": "code",
   "execution_count": 22,
   "metadata": {},
   "outputs": [],
   "source": [
    "# flag if patient died\n",
    "ciss['DIED'] = ciss.apply(lambda x: 1 if ((x['PARINJSEV']==4) | (x['DEATH']>0)) else 0, axis=1)\n",
    "\n",
    "# if police report indicates patient died but we don't know when\n",
    "#  then set death = 1\n",
    "ciss['DEATH'] = ciss.apply(lambda x: 1 if (((x['DEATH']==0) | (x['DEATH']==99)) & (x['PARINJSEV']==4)) else x['DEATH'], axis=1)\n",
    "                           \n",
    "# if occupant died and iss<24, set to 24                       \n",
    "ciss['ISS'] = ciss.apply(lambda x: 24 if ((x['DIED']==1) & (x['ISS']<24)) else x['ISS'], axis=1)"
   ]
  },
  {
   "cell_type": "code",
   "execution_count": 23,
   "metadata": {},
   "outputs": [],
   "source": [
    "# number of occupants in each vehicle\n",
    "vocc = pd.DataFrame(ciss.groupby('VEH_KEY')['KEY'].count()).rename(columns={'KEY':'VEH_OCC_NUM'})\n",
    "\n",
    "# number of occupants that died in each vehicle\n",
    "vdied = pd.DataFrame(ciss.groupby('VEH_KEY')['DIED'].sum()).rename(columns={'DIED':'VEH_DEATH'})\n",
    "\n",
    "# merge into occupant data\n",
    "ciss = ciss.merge(vocc, on='VEH_KEY', how='left')\n",
    "\n",
    "# merge into occupant data\n",
    "ciss = ciss.merge(vdied, on='VEH_KEY', how='left')"
   ]
  },
  {
   "cell_type": "code",
   "execution_count": 24,
   "metadata": {},
   "outputs": [],
   "source": [
    "# set other death flag (if someone else in the vehicle died)\n",
    "ciss['OTHER_DEATH'] = ciss.apply(lambda x: 1 if ((x['VEH_DEATH'] - x['DIED']) > 0) else 0, axis=1)"
   ]
  },
  {
   "cell_type": "markdown",
   "metadata": {},
   "source": [
    "## Determine intrusions"
   ]
  },
  {
   "cell_type": "code",
   "execution_count": 25,
   "metadata": {},
   "outputs": [],
   "source": [
    "# get occupant data\n",
    "ciss_int17 = pd.read_csv(\"../Data/CISS/2017-Pilot/INTRUSION.CSV\", encoding=encode)\n",
    "ciss_int18= pd.read_csv(\"../Data/CISS/2018/INTRUSION.CSV\", encoding=encode)\n",
    "\n",
    "# set year\n",
    "ciss_int17['YEAR'] = 2017\n",
    "ciss_int18['YEAR'] = 2018\n",
    "\n",
    "ciss_int = ciss_int17.append(ciss_int18).reset_index()"
   ]
  },
  {
   "cell_type": "code",
   "execution_count": 26,
   "metadata": {},
   "outputs": [],
   "source": [
    "# create vehicle key\n",
    "ciss_int['VEH_KEY'] = ciss_int['CASENUMBER'].astype(str)  + \"_\" + ciss_int['VEHNO'].astype(str)  "
   ]
  },
  {
   "cell_type": "code",
   "execution_count": 27,
   "metadata": {},
   "outputs": [],
   "source": [
    "# if intrusion is unknown, set to 0\n",
    "ciss_int['INTMAG'] = ciss_int['INTMAG'].replace(9,0)"
   ]
  },
  {
   "cell_type": "code",
   "execution_count": 28,
   "metadata": {},
   "outputs": [],
   "source": [
    "# create catastrophic intrusion flag\n",
    "ciss_int['INTCAT'] = ciss_int.apply(lambda x: 1 if x['INTMAG']==7 else 0, axis=1)"
   ]
  },
  {
   "cell_type": "code",
   "execution_count": 29,
   "metadata": {},
   "outputs": [],
   "source": [
    "# determine max intrusion for each vehicle\n",
    "intmax = pd.DataFrame(ciss_int.groupby('VEH_KEY')[['INTMAG','INTCAT']].max()).reset_index().rename(columns={'INTMAG':'INTMAX'})\n",
    "\n",
    "# set flag for intrusions over 18 inches\n",
    "intmax['INT18'] = intmax.apply(lambda x: 1 if ((x['INTMAX']>=5) & (x['INTMAX']<=8)) else 0, axis=1)\n",
    "\n",
    "# join to ciss data\n",
    "ciss = ciss.merge(intmax, on='VEH_KEY', how='left')"
   ]
  },
  {
   "cell_type": "code",
   "execution_count": 30,
   "metadata": {},
   "outputs": [],
   "source": [
    "# create flag for 12 inches of intrusion at seat position\n",
    "ciss_int['INT12OCC'] = ciss_int.apply(lambda x: 1 if (x['INTMAG']>=4) & (x['INTMAG']<8) else 0, axis=1)"
   ]
  },
  {
   "cell_type": "code",
   "execution_count": 31,
   "metadata": {},
   "outputs": [],
   "source": [
    "# join to ciss data\n",
    "ciss = ciss.merge(ciss_int[['VEH_KEY','SEATLOC','INTMAG','INT12OCC']], on=['VEH_KEY','SEATLOC'], how='left')"
   ]
  },
  {
   "cell_type": "markdown",
   "metadata": {},
   "source": [
    "## Determine if any airbag deployment"
   ]
  },
  {
   "cell_type": "code",
   "execution_count": 32,
   "metadata": {},
   "outputs": [],
   "source": [
    "# get occupant data\n",
    "ciss_ab17 = pd.read_csv(\"../Data/CISS/2017-Pilot/AIRBAG.CSV\", encoding=encode)\n",
    "ciss_ab18= pd.read_csv(\"../Data/CISS/2018/AIRBAG.CSV\", encoding=encode)\n",
    "\n",
    "# set year\n",
    "ciss_ab17['YEAR'] = 2017\n",
    "ciss_ab18['YEAR'] = 2018\n",
    "\n",
    "ciss_ab = ciss_ab17.append(ciss_ab18).reset_index()"
   ]
  },
  {
   "cell_type": "code",
   "execution_count": 33,
   "metadata": {},
   "outputs": [],
   "source": [
    "# create vehicle key\n",
    "ciss_ab['VEH_KEY'] = ciss_ab['CASENUMBER'].astype(str)  + \"_\" + ciss_ab['VEHNO'].astype(str)  "
   ]
  },
  {
   "cell_type": "code",
   "execution_count": 34,
   "metadata": {},
   "outputs": [],
   "source": [
    "# make flag for airbag deployment\n",
    "ciss_ab['ABDEPLY'] = ciss_ab.apply(lambda x: 1 if x.BAGDEPLOY == 1 else 0, axis=1)"
   ]
  },
  {
   "cell_type": "code",
   "execution_count": 35,
   "metadata": {},
   "outputs": [],
   "source": [
    "# determine if any airbag deployed\n",
    "airbag = ciss_ab.groupby('VEH_KEY').sum().reset_index()[['VEH_KEY','ABDEPLY']]"
   ]
  },
  {
   "cell_type": "code",
   "execution_count": 36,
   "metadata": {},
   "outputs": [],
   "source": [
    "airbag['ABDEPLY'] = airbag.apply(lambda x: 1 if x.ABDEPLY>=1 else 0, axis=1)"
   ]
  },
  {
   "cell_type": "code",
   "execution_count": 37,
   "metadata": {},
   "outputs": [],
   "source": [
    "# join to ciss data\n",
    "ciss = ciss.merge(airbag, on=['VEH_KEY'], how='left')\n",
    "\n",
    "# if missing in AB table set as not deployment\n",
    "ciss['ABDEPLY'] = ciss.ABDEPLY.fillna(0)"
   ]
  },
  {
   "cell_type": "markdown",
   "metadata": {},
   "source": [
    "## Determine Ejection"
   ]
  },
  {
   "cell_type": "code",
   "execution_count": 38,
   "metadata": {},
   "outputs": [],
   "source": [
    "# get occupant data\n",
    "ciss_ejt17 = pd.read_csv(\"../Data/CISS/2017-Pilot/EJECT.CSV\", encoding=encode)\n",
    "ciss_ejt18= pd.read_csv(\"../Data/CISS/2018/EJECT.CSV\", encoding=encode)\n",
    "\n",
    "# set year\n",
    "ciss_ejt17['YEAR'] = 2017\n",
    "ciss_ejt18['YEAR'] = 2018\n",
    "\n",
    "ciss_ejt = ciss_ejt17.append(ciss_ejt18).reset_index()"
   ]
  },
  {
   "cell_type": "code",
   "execution_count": 39,
   "metadata": {},
   "outputs": [],
   "source": [
    "# create key\n",
    "ciss_ejt['KEY'] = ciss_ejt[\"YEAR\"].astype(str) + \"_\" + ciss_ejt[\"PSU\"].astype(str) + \"_\" + ciss_ejt[\"CASENO\"].astype(str) + \"_\"\\\n",
    "                + ciss_ejt[\"VEHNO\"].astype(str) + \"_\" + ciss_ejt[\"OCCNO\"].astype(str)"
   ]
  },
  {
   "cell_type": "code",
   "execution_count": 40,
   "metadata": {},
   "outputs": [],
   "source": [
    "# convert unknowns to 0\n",
    "ciss_ejt['EJECTTYPE'] = ciss_ejt['EJECTTYPE'].replace(9,0)\n",
    "\n",
    "# rename to EJECTION\n",
    "ciss_ejt = ciss_ejt.rename(columns={'EJECTTYPE':'EJECTION'})"
   ]
  },
  {
   "cell_type": "code",
   "execution_count": 41,
   "metadata": {},
   "outputs": [],
   "source": [
    "# create flag for partial ejection (also unknown degree)\n",
    "ciss_ejt['EJECTION_PARTIAL'] = ciss_ejt.apply(lambda x: 1 if x['EJECTION']>=2 else 0, axis=1)\n",
    "\n",
    "# create flag for complete ejection\n",
    "ciss_ejt['EJECTION_COMPLETE'] = ciss_ejt.apply(lambda x: 1 if x['EJECTION']==1 else 0, axis=1)\n",
    "\n",
    "# create flag for any ejection\n",
    "ciss_ejt['EJECTION'] = ciss_ejt.apply(lambda x: 0 if x['EJECTION']==0 else 1, axis=1)"
   ]
  },
  {
   "cell_type": "code",
   "execution_count": 42,
   "metadata": {},
   "outputs": [],
   "source": [
    "# join to ciss data\n",
    "ciss = ciss.merge(ciss_ejt[['KEY','EJECTION','EJECTION_PARTIAL','EJECTION_COMPLETE']], on='KEY', how='left')"
   ]
  },
  {
   "cell_type": "markdown",
   "metadata": {},
   "source": [
    "## Determine crash year"
   ]
  },
  {
   "cell_type": "code",
   "execution_count": 43,
   "metadata": {},
   "outputs": [],
   "source": [
    "# get occupant data\n",
    "ciss_gv17 = pd.read_csv(\"../Data/CISS/2017-Pilot/GV.CSV\", encoding=encode)\n",
    "ciss_gv18= pd.read_csv(\"../Data/CISS/2018/GV.CSV\", encoding=encode)\n",
    "\n",
    "# set year\n",
    "ciss_gv17['YEAR'] = 2017\n",
    "ciss_gv18['YEAR'] = 2018\n",
    "\n",
    "ciss_gv = ciss_gv17.append(ciss_gv18).reset_index()"
   ]
  },
  {
   "cell_type": "code",
   "execution_count": 44,
   "metadata": {},
   "outputs": [],
   "source": [
    "# create vehicle key\n",
    "ciss_gv['VEH_KEY'] = ciss_gv['CASENUMBER'].astype(str)  + \"_\" + ciss_gv['VEHNO'].astype(str)  "
   ]
  },
  {
   "cell_type": "code",
   "execution_count": 45,
   "metadata": {},
   "outputs": [],
   "source": [
    "# join to ciss data\n",
    "ciss = ciss.merge(ciss_gv[['VEH_KEY','MODELYR']], on='VEH_KEY', how='left')"
   ]
  },
  {
   "cell_type": "markdown",
   "metadata": {},
   "source": [
    "## Filter peds cases and set missing data to NA"
   ]
  },
  {
   "cell_type": "code",
   "execution_count": 46,
   "metadata": {},
   "outputs": [
    {
     "name": "stdout",
     "output_type": "stream",
     "text": [
      "Peds occupants:  2406\n",
      "Excluded ISS:  168 count: 2238\n"
     ]
    }
   ],
   "source": [
    "# only age <=18 years\n",
    "ciss = ciss[ciss['AGE']<=18]\n",
    "\n",
    "count = len(ciss)\n",
    "print(\"Peds occupants: \", count)\n",
    "\n",
    "# mark sex as nan when unknown \n",
    "ciss['SEX'] = ciss.apply(lambda x: np.nan if x.SEX==9 else x.SEX, axis=1)\n",
    "\n",
    "# mark Delta-V as nan when unknown \n",
    "ciss['DVTOTAL'] = ciss.apply(lambda x: np.nan if x.DVTOTAL==-999 else x.DVTOTAL, axis=1)\n",
    "\n",
    "# mark PDOF as nan when unknown \n",
    "ciss['PDOF'] = ciss.apply(lambda x: np.nan if x.PDOF>360 else x.PDOF, axis=1)\n",
    "\n",
    "# mark rollover turns as nan when unknown \n",
    "ciss['ROLL_TURNS'] = ciss.apply(lambda x: np.nan if x.ROLL_TURNS<0 else x.ROLL_TURNS, axis=1)\n",
    "\n",
    "# mark childseat turns as nan when unknown \n",
    "ciss['CHILDSEATYPE'] = ciss.apply(lambda x: np.nan if x.CHILDSEATYPE==99 else x.CHILDSEATYPE, axis=1)\n",
    "\n",
    "# mark belt use as nan when unknown \n",
    "ciss['BELTUSE'] = ciss.apply(lambda x: np.nan if x.BELTUSE==99 else x.BELTUSE, axis=1)\n",
    "\n",
    "# filter unknown ISS\n",
    "ciss = ciss[ciss.ISS!=99]\n",
    "print(\"Excluded ISS: \", count-len(ciss), \"count:\", len(ciss))\n",
    "count = len(ciss)"
   ]
  },
  {
   "cell_type": "markdown",
   "metadata": {},
   "source": [
    "## Impute weight height"
   ]
  },
  {
   "cell_type": "code",
   "execution_count": 47,
   "metadata": {},
   "outputs": [],
   "source": [
    "# find mean height and weight for each age\n",
    "mean_measure = ciss[(ciss['WEIGHT']<999) & (ciss['HEIGHT']<999)].groupby('AGE').agg({'WEIGHT':'mean','HEIGHT':'mean'})"
   ]
  },
  {
   "cell_type": "code",
   "execution_count": 48,
   "metadata": {},
   "outputs": [],
   "source": [
    "# impute missing weight\n",
    "ciss['WGT_IMP'] = ciss.apply(lambda x: x['WEIGHT'] if x['WEIGHT']<999 else mean_measure.iloc[x['AGE'],0], axis=1)\n",
    "\n",
    "# impute missing height\n",
    "ciss['HGT_IMP'] = ciss.apply(lambda x: x['HEIGHT'] if x['HEIGHT']<999 else mean_measure.iloc[x['AGE'],1], axis=1)"
   ]
  },
  {
   "cell_type": "markdown",
   "metadata": {},
   "source": [
    "## Determine PDOF"
   ]
  },
  {
   "cell_type": "code",
   "execution_count": 49,
   "metadata": {},
   "outputs": [],
   "source": [
    "# get position of occupant\n",
    "ciss['SEAT_SIDE'] = ciss['SEATLOC'].mod(10)\n",
    "ciss['SEAT_ROW'] = round(ciss['SEATLOC'] / 10)"
   ]
  },
  {
   "cell_type": "code",
   "execution_count": 50,
   "metadata": {},
   "outputs": [],
   "source": [
    "# separate PDOF into quadrants\n",
    "ciss['PDOF_FRONT'] = ciss.apply(lambda x: 1 if ((x['PDOF']<45) | (x['PDOF']>315)) else 0, axis=1)\n",
    "ciss['PDOF_RIGHT'] = ciss.apply(lambda x: 1 if ((x['PDOF']>45) & (x['PDOF']<135)) else 0, axis=1)\n",
    "ciss['PDOF_LEFT'] = ciss.apply(lambda x: 1 if ((x['PDOF']>135) & (x['PDOF']<225)) else 0, axis=1)\n",
    "ciss['PDOF_REAR'] = ciss.apply(lambda x: 1 if ((x['PDOF']>225) & (x['PDOF']<315)) else 0, axis=1)"
   ]
  },
  {
   "cell_type": "code",
   "execution_count": 51,
   "metadata": {},
   "outputs": [],
   "source": [
    "# determine nearside or farside (middle is considered farside)\n",
    "ciss['PDOF_NEARSIDE'] = ciss.apply(lambda x: 1 if (((x['PDOF_LEFT']==1) & (x['SEAT_SIDE']==1)) |\\\n",
    "                                                  ((x['PDOF_RIGHT']==1) & (x['SEAT_SIDE']==3))) else 0, axis=1)\n",
    "\n",
    "ciss['PDOF_FARSIDE'] = ciss.apply(lambda x: 1 if (((x['PDOF_LEFT']==1) & (x['SEAT_SIDE']!=1)) |\\\n",
    "                                                  ((x['PDOF_RIGHT']==1) & (x['SEAT_SIDE']!=3))) else 0, axis=1)"
   ]
  },
  {
   "cell_type": "markdown",
   "metadata": {},
   "source": [
    "## Determine proper restraint\n",
    "Based on method by Doud, et al. in \"Evaluation of developmental metrics for utilization in a pediatric advanced automatic crash notification algorithm\", Traffic Injury Prevention Volume 17, 2016."
   ]
  },
  {
   "cell_type": "code",
   "execution_count": 52,
   "metadata": {},
   "outputs": [],
   "source": [
    "# default is properly restrained\n",
    "ciss['PROP_RESTRAINT'] = 1\n",
    "\n",
    "# children 12 years or under in front seat are improperly restrained\n",
    "ciss['PROP_RESTRAINT'] = ciss.apply(lambda x: 0 if ((x['AGE']<=12) & (x['SEAT_ROW']==1)) else x['PROP_RESTRAINT'], axis=1)\n",
    "\n",
    "# children 0-1 years should be in rear facing \n",
    "ciss['PROP_RESTRAINT'] = ciss.apply(lambda x: 0 if ((x['AGE']<=1) & (x['ORIENTATION']!=1)) else x['PROP_RESTRAINT'], axis=1)\n",
    "\n",
    "# children 2-4 years <18kg should be forward facing\n",
    "ciss['PROP_RESTRAINT'] = ciss.apply(lambda x: 0 if ((x['AGE']>=2) & (x['AGE']<=4) & (x['WGT_IMP']<18) & (x['ORIENTATION']!=2)) else x['PROP_RESTRAINT'], axis=1)\n",
    "\n",
    "# children 2-4 years >=18kg should use a booster \n",
    "ciss['PROP_RESTRAINT'] = ciss.apply(lambda x: 0 if ((x['AGE']>=2) & (x['AGE']<=4) & (x['WGT_IMP']>=18) \n",
    "                                                    & (~np.isin(x['CHILDSEATYPE'],[4,5,6]))) else x['PROP_RESTRAINT'], axis=1)\n",
    "\n",
    "# children 5-7 years <36 kg or <145 cm should have booster\n",
    "ciss['PROP_RESTRAINT'] = ciss.apply(lambda x: 0 if ((x['AGE']>=5) & (x['AGE']<=7) & ((x['WGT_IMP']<36) | (x['HGT_IMP']<145))\\\n",
    "                                                    & (~np.isin(x['CHILDSEATYPE'],[4,5,6]))) else x['PROP_RESTRAINT'], axis=1)\n",
    "\n",
    "# children 8 and above should be wearing lap and shoulder\n",
    "ciss['PROP_RESTRAINT'] = ciss.apply(lambda x: 0 if ((x['AGE']>=8) & (x['BELTUSE']!=4)) else x['PROP_RESTRAINT'], axis=1)\n",
    "\n",
    "# make flag for unrestrained\n",
    "ciss['NO_RESTRAINT'] = ciss.apply(lambda x: 1 if (((x['BELTUSE']==0)|(math.isnan(x['BELTUSE']))) & \\\n",
    "                                                  ((x['CHILDSEATYPE']==0) |(math.isnan(x['CHILDSEATYPE'])))) else 0, axis=1)\n",
    "\n",
    "# make flaf for any restraint\n",
    "ciss['ANY_RESTRAINT'] = ciss.apply(lambda x: 0 if (x['NO_RESTRAINT']==1) else 1, axis=1)\n",
    "\n",
    "# if unrestrainted is 1, properly restrained is 0\n",
    "ciss['PROP_RESTRAINT'] = ciss.apply(lambda x: 0 if (x['NO_RESTRAINT']==1) else x['PROP_RESTRAINT'], axis=1)"
   ]
  },
  {
   "cell_type": "markdown",
   "metadata": {},
   "source": [
    "## Read in Injury data and Create outcome flags"
   ]
  },
  {
   "cell_type": "code",
   "execution_count": 53,
   "metadata": {},
   "outputs": [],
   "source": [
    "# get occupant data\n",
    "ciss_injury17 = pd.read_csv(\"../Data/CISS/2017-Pilot/INJURY.CSV\", encoding=encode)\n",
    "ciss_injury18 = pd.read_csv(\"../Data/CISS/2018/INJURY.CSV\", encoding=encode)\n",
    "\n",
    "# set year\n",
    "ciss_injury17['YEAR'] = 2017\n",
    "ciss_injury18['YEAR'] = 2018\n",
    "\n",
    "ciss_injury = ciss_injury17.append(ciss_injury18).reset_index()"
   ]
  },
  {
   "cell_type": "code",
   "execution_count": 54,
   "metadata": {},
   "outputs": [],
   "source": [
    "# create key\n",
    "ciss_injury['KEY'] = ciss_injury[\"YEAR\"].astype(str) + \"_\" + ciss_injury[\"PSU\"].astype(str) + \"_\" + ciss_injury[\"CASENO\"].astype(str) + \"_\"\\\n",
    "                + ciss_injury[\"VEHNO\"].astype(str) + \"_\" + ciss_injury[\"OCCNO\"].astype(int).astype(str)"
   ]
  },
  {
   "cell_type": "code",
   "execution_count": 55,
   "metadata": {},
   "outputs": [],
   "source": [
    "# ISS>=16\n",
    "ciss['ISS16'] = ciss.apply(lambda x: 1 if ((x['ISS']>=16) & (x['ISS']<97)) else 0, axis=1)\n",
    "\n",
    "# MAIS head (region 1)  \n",
    "# find max head injury severity\n",
    "head_injuries = ciss_injury[ciss_injury['REGION']==1].groupby('KEY')['AIS'].max()\n",
    "\n",
    "# join with ciss\n",
    "ciss = ciss.merge(head_injuries, how='left', on='KEY').rename(columns={'AIS':'MAIS_HEAD'})\n",
    "\n",
    "# MAIS thorax (region 4)  \n",
    "# find max head injury severity\n",
    "thorax_injuries = ciss_injury[ciss_injury['REGION']==4].groupby('KEY')['AIS'].max()\n",
    "\n",
    "# join with ciss\n",
    "ciss = ciss.merge(thorax_injuries, how='left', on='KEY').rename(columns={'AIS':'MAIS_THORAX'})\n",
    "\n",
    "# MAIS abd (region 5)  \n",
    "# find max head injury severity\n",
    "abd_injuries = ciss_injury[ciss_injury['REGION']==5].groupby('KEY')['AIS'].max()\n",
    "\n",
    "# join with ciss\n",
    "ciss = ciss.merge(abd_injuries, how='left', on='KEY').rename(columns={'AIS':'MAIS_ABD'})"
   ]
  },
  {
   "cell_type": "code",
   "execution_count": 56,
   "metadata": {},
   "outputs": [],
   "source": [
    "# replace nan for MAIS with 0\n",
    "ciss[['MAIS','MAIS_HEAD','MAIS_THORAX','MAIS_ABD']] = ciss[['MAIS','MAIS_HEAD','MAIS_THORAX','MAIS_ABD']].fillna(0)"
   ]
  },
  {
   "cell_type": "markdown",
   "metadata": {},
   "source": [
    "## Identify occupants with target injuries\n",
    "Target injury list is AIS98 and not compatible with AIS15, so set to null value (-1)."
   ]
  },
  {
   "cell_type": "code",
   "execution_count": 57,
   "metadata": {},
   "outputs": [],
   "source": [
    "ciss['TARGET_INJ']=-1"
   ]
  },
  {
   "cell_type": "markdown",
   "metadata": {},
   "source": [
    "## Store data"
   ]
  },
  {
   "cell_type": "code",
   "execution_count": 58,
   "metadata": {},
   "outputs": [],
   "source": [
    "# select variables\n",
    "ciss_output = ciss[['KEY','YEAR','AGE','SEX','WGT_IMP','HGT_IMP','PROP_RESTRAINT','ANY_RESTRAINT','ABDEPLY','SEAT_ROW','ENTRAPMENT',\\\n",
    "                   'DVTOTAL','SPLIMIT','MULTICOLL','PDOF_FRONT','PDOF_REAR','PDOF_NEARSIDE','PDOF_FARSIDE','ROLLED','ROLL_TURNS',\\\n",
    "                   'INTCAT','INT18','INT12OCC','EJECTION','EJECTION_PARTIAL','EJECTION_COMPLETE',\\\n",
    "                   'DIED','OTHER_DEATH','ISS','ISS16','MAIS','MAIS_HEAD','MAIS_THORAX','MAIS_ABD','TARGET_INJ','CASEWGT']].copy()"
   ]
  },
  {
   "cell_type": "code",
   "execution_count": 59,
   "metadata": {},
   "outputs": [],
   "source": [
    "def float_to_int_w_nan(x):\n",
    "    return x.fillna(-1).astype(int).astype(str).replace('-1',np.nan)"
   ]
  },
  {
   "cell_type": "code",
   "execution_count": 60,
   "metadata": {},
   "outputs": [],
   "source": [
    "float_cols = ['SEAT_ROW','DVTOTAL','MULTICOLL','ROLLED','ROLL_TURNS','MAIS_HEAD','MAIS_THORAX','MAIS_ABD']\n",
    "\n",
    "# change floats to integers to match NASS\n",
    "for col in float_cols:\n",
    "    ciss_output[col] = float_to_int_w_nan(ciss_output[col])\n",
    "\n",
    "# covert column names to lowercase to match NASS\n",
    "ciss_output.columns = ciss_output.columns.str.lower()"
   ]
  },
  {
   "cell_type": "code",
   "execution_count": 61,
   "metadata": {},
   "outputs": [],
   "source": [
    "ciss_output.to_csv(\"../Data/CISS/CISSPeds-2017_2018-unfiltered.csv\", index=False)"
   ]
  },
  {
   "cell_type": "code",
   "execution_count": null,
   "metadata": {},
   "outputs": [],
   "source": []
  }
 ],
 "metadata": {
  "kernelspec": {
   "display_name": "Python 3",
   "language": "python",
   "name": "python3"
  },
  "language_info": {
   "codemirror_mode": {
    "name": "ipython",
    "version": 3
   },
   "file_extension": ".py",
   "mimetype": "text/x-python",
   "name": "python",
   "nbconvert_exporter": "python",
   "pygments_lexer": "ipython3",
   "version": "3.7.3"
  }
 },
 "nbformat": 4,
 "nbformat_minor": 4
}
