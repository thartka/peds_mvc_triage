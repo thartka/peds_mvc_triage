{
 "cells": [
  {
   "cell_type": "markdown",
   "metadata": {},
   "source": [
    "## Project: Development of a reduced pediatric injury prediction model\n",
    "Created by: Thomas Hartka, MD, MS  \n",
    "Date created: 12/14/20  \n",
    "  \n",
    "This notebook performs cross-validation on all combinations of predictors for predicting severe injury for pediatric patients.  AUC is recorded for each run of ten-fold cross-validation."
   ]
  },
  {
   "cell_type": "code",
   "execution_count": 17,
   "metadata": {},
   "outputs": [],
   "source": [
    "import numpy as np\n",
    "import pandas as pd\n",
    "from sklearn.linear_model import LogisticRegression\n",
    "from sklearn import metrics\n",
    "import scipy.stats as st\n",
    "import matplotlib.pyplot as plt\n",
    "from itertools import combinations"
   ]
  },
  {
   "cell_type": "markdown",
   "metadata": {},
   "source": [
    "## Set outcome"
   ]
  },
  {
   "cell_type": "code",
   "execution_count": 30,
   "metadata": {},
   "outputs": [],
   "source": [
    "# outcome of interest\n",
    "#  ISS -> ISS>=16\n",
    "#  TIL -> any injury on target injury list\n",
    "outcome = \"TIL\""
   ]
  },
  {
   "cell_type": "markdown",
   "metadata": {},
   "source": [
    "## Read in data"
   ]
  },
  {
   "cell_type": "code",
   "execution_count": 31,
   "metadata": {},
   "outputs": [],
   "source": [
    "peds = pd.read_csv(\"../Data/Peds-2010_2018.csv\")"
   ]
  },
  {
   "cell_type": "code",
   "execution_count": 32,
   "metadata": {},
   "outputs": [],
   "source": [
    "# filter out CISS cases if using TIL because TIL is only valid for AIS98\n",
    "if outcome == \"TIL\":\n",
    "    peds = peds[peds.dataset=='NASS']"
   ]
  },
  {
   "cell_type": "markdown",
   "metadata": {},
   "source": [
    "## Set variables"
   ]
  },
  {
   "cell_type": "code",
   "execution_count": 25,
   "metadata": {},
   "outputs": [],
   "source": [
    "predictors = ['sex','age_5_9', 'age_10_14','age_15_18',\n",
    "              'prop_restraint','no_restraint','front_row', \n",
    "              'dvtotal','pdof_rear','pdof_nearside','pdof_farside', \n",
    "              'rolled','multicoll','ejection']\n",
    "\n",
    "if outcome == \"ISS\":\n",
    "    response = 'iss16'\n",
    "elif outcome == \"TIL\":\n",
    "    response = 'target_inj'\n",
    "else:\n",
    "    raise Exception(\"Outcome not valid\") "
   ]
  },
  {
   "cell_type": "markdown",
   "metadata": {},
   "source": [
    "## Scale variables"
   ]
  },
  {
   "cell_type": "code",
   "execution_count": 4,
   "metadata": {},
   "outputs": [
    {
     "name": "stdout",
     "output_type": "stream",
     "text": [
      "sex  is binary\n",
      "age_5_9  is binary\n",
      "age_10_14  is binary\n",
      "age_15_18  is binary\n",
      "prop_restraint  is binary\n",
      "no_restraint  is binary\n",
      "front_row  is binary\n",
      "dvtotal  is continuous\n",
      "pdof_rear  is binary\n",
      "pdof_nearside  is binary\n",
      "pdof_farside  is binary\n",
      "rolled  is binary\n",
      "multicoll  is binary\n",
      "ejection  is binary\n"
     ]
    }
   ],
   "source": [
    "# scale variables\n",
    "peds_scale = peds[predictors + [response] + ['fold5x','fold10x']].copy()\n",
    "for key in predictors:\n",
    "    if not all([i in [0,1] for i in peds[key].unique()]):\n",
    "        peds_scale[key] = peds_scale[key] - np.mean(peds_scale[key])\n",
    "        peds_scale[key] = peds_scale[key] / np.std(peds_scale[key])\n",
    "        print(key, \" is continuous\")\n",
    "    else:\n",
    "        peds_scale[key] = peds_scale[key]\n",
    "        print(key, \" is binary\")"
   ]
  },
  {
   "cell_type": "markdown",
   "metadata": {},
   "source": [
    "## Cross validation logistic regression function"
   ]
  },
  {
   "cell_type": "code",
   "execution_count": 5,
   "metadata": {},
   "outputs": [],
   "source": [
    "def log_reg_cv(data, predictors, response, fold_col, num_vars):\n",
    "    '''\n",
    "    This function performs lass regression using folds specified in the \n",
    "    data set in a 'fold' column.  It returns a dataframe with the coefficients\n",
    "    for each fold and auc.\n",
    "    \n",
    "    Parameters:\n",
    "        data - data to analyze\n",
    "        predictors - list of columns for predictors\n",
    "        response - outcome column\n",
    "        fold_col - folds column\n",
    "    Returns:\n",
    "        cofficient/AUC - DataFrame(contains AUC, fold, cofficients for model)\n",
    "    '''\n",
    "    \n",
    "    # get folds\n",
    "    folds = np.sort(data[fold_col].unique())\n",
    "    \n",
    "    # create dataframe for results\n",
    "    results = pd.DataFrame(columns=['num_vars','fold']+predictors+['AUC'])\n",
    "    \n",
    "    # set up LR model\n",
    "    lr_mod = LogisticRegression(random_state=1819, penalty='none',solver='saga',max_iter=1000)\n",
    "    \n",
    "    # loop through folds\n",
    "    for fold in folds:\n",
    "        # separate fold train/test data\n",
    "        train = data[data[fold_col]!=fold]\n",
    "        test = data[data[fold_col]==fold]\n",
    "\n",
    "        # fit regression model\n",
    "        lr_fit = lr_mod.fit(train[predictors], train[response])\n",
    "\n",
    "        # predict on fold test data\n",
    "        pred = lr_fit.predict_proba(test[predictors])\n",
    "\n",
    "        # calc AUC\n",
    "        fpr, tpr, thresholds = metrics.roc_curve(test[response], pred[:,1], pos_label=1)\n",
    "        AUC = metrics.auc(fpr, tpr)\n",
    "\n",
    "        # gather results\n",
    "        fold_results = [num_vars, fold]\n",
    "        for i,var in enumerate(predictors):\n",
    "            fold_results.append(lr_fit.coef_[0,i])\n",
    "        fold_results += [AUC]\n",
    "\n",
    "        # store AUC\n",
    "        fold_series = pd.Series(fold_results, index = results.columns)\n",
    "        results = results.append(fold_series, ignore_index=True)\n",
    "    \n",
    "    \n",
    "    return results"
   ]
  },
  {
   "cell_type": "markdown",
   "metadata": {},
   "source": [
    "## Run regressions"
   ]
  },
  {
   "cell_type": "code",
   "execution_count": 6,
   "metadata": {},
   "outputs": [
    {
     "name": "stdout",
     "output_type": "stream",
     "text": [
      "Predictors:  1\n",
      "Predictors:  2\n",
      "Predictors:  3\n",
      "Predictors:  4\n",
      "Predictors:  5\n",
      "Predictors:  6\n",
      "Predictors:  7\n",
      "Predictors:  8\n",
      "Predictors:  9\n",
      "Predictors:  10\n",
      "Predictors:  11\n",
      "Predictors:  12\n",
      "Predictors:  13\n",
      "Predictors:  14\n",
      "CPU times: user 12h 51min 37s, sys: 1d 35min 3s, total: 1d 13h 26min 40s\n",
      "Wall time: 3h 15min 43s\n"
     ]
    }
   ],
   "source": [
    "%%time\n",
    "\n",
    "results = pd.DataFrame(columns=['num_vars','fold']+predictors+['AUC'])\n",
    "\n",
    "# loop through number of variables\n",
    "for i in range(1,len(predictors)+1):\n",
    "    print(\"Predictors: \", i)\n",
    "    \n",
    "    # loop through all combinations with i variables\n",
    "    for comb in combinations(predictors,i):\n",
    "        # run regression on each combination\n",
    "        res = log_reg_cv(peds_scale, list(comb), response, 'fold10x', i)\n",
    "    \n",
    "        # store results\n",
    "        results = results.append(res,ignore_index=True, sort=True)\n",
    "        \n",
    "# replace missing cofficients with 0 and return results\n",
    "results = results.fillna(0)"
   ]
  },
  {
   "cell_type": "code",
   "execution_count": 7,
   "metadata": {},
   "outputs": [
    {
     "data": {
      "text/html": [
       "<div>\n",
       "<style scoped>\n",
       "    .dataframe tbody tr th:only-of-type {\n",
       "        vertical-align: middle;\n",
       "    }\n",
       "\n",
       "    .dataframe tbody tr th {\n",
       "        vertical-align: top;\n",
       "    }\n",
       "\n",
       "    .dataframe thead th {\n",
       "        text-align: right;\n",
       "    }\n",
       "</style>\n",
       "<table border=\"1\" class=\"dataframe\">\n",
       "  <thead>\n",
       "    <tr style=\"text-align: right;\">\n",
       "      <th></th>\n",
       "      <th>AUC</th>\n",
       "      <th>age_10_14</th>\n",
       "      <th>age_15_18</th>\n",
       "      <th>age_5_9</th>\n",
       "      <th>dvtotal</th>\n",
       "      <th>ejection</th>\n",
       "      <th>fold</th>\n",
       "      <th>front_row</th>\n",
       "      <th>multicoll</th>\n",
       "      <th>no_restraint</th>\n",
       "      <th>num_vars</th>\n",
       "      <th>pdof_farside</th>\n",
       "      <th>pdof_nearside</th>\n",
       "      <th>pdof_rear</th>\n",
       "      <th>prop_restraint</th>\n",
       "      <th>rolled</th>\n",
       "      <th>sex</th>\n",
       "    </tr>\n",
       "  </thead>\n",
       "  <tbody>\n",
       "    <tr>\n",
       "      <th>0</th>\n",
       "      <td>0.500564</td>\n",
       "      <td>0.0</td>\n",
       "      <td>0.0</td>\n",
       "      <td>0.0</td>\n",
       "      <td>0.0</td>\n",
       "      <td>0.0</td>\n",
       "      <td>0.0</td>\n",
       "      <td>0.0</td>\n",
       "      <td>0.0</td>\n",
       "      <td>0.0</td>\n",
       "      <td>1.0</td>\n",
       "      <td>0.0</td>\n",
       "      <td>0.0</td>\n",
       "      <td>0.0</td>\n",
       "      <td>0.0</td>\n",
       "      <td>0.0</td>\n",
       "      <td>-0.226578</td>\n",
       "    </tr>\n",
       "    <tr>\n",
       "      <th>1</th>\n",
       "      <td>0.524273</td>\n",
       "      <td>0.0</td>\n",
       "      <td>0.0</td>\n",
       "      <td>0.0</td>\n",
       "      <td>0.0</td>\n",
       "      <td>0.0</td>\n",
       "      <td>1.0</td>\n",
       "      <td>0.0</td>\n",
       "      <td>0.0</td>\n",
       "      <td>0.0</td>\n",
       "      <td>1.0</td>\n",
       "      <td>0.0</td>\n",
       "      <td>0.0</td>\n",
       "      <td>0.0</td>\n",
       "      <td>0.0</td>\n",
       "      <td>0.0</td>\n",
       "      <td>-0.204865</td>\n",
       "    </tr>\n",
       "    <tr>\n",
       "      <th>2</th>\n",
       "      <td>0.534150</td>\n",
       "      <td>0.0</td>\n",
       "      <td>0.0</td>\n",
       "      <td>0.0</td>\n",
       "      <td>0.0</td>\n",
       "      <td>0.0</td>\n",
       "      <td>2.0</td>\n",
       "      <td>0.0</td>\n",
       "      <td>0.0</td>\n",
       "      <td>0.0</td>\n",
       "      <td>1.0</td>\n",
       "      <td>0.0</td>\n",
       "      <td>0.0</td>\n",
       "      <td>0.0</td>\n",
       "      <td>0.0</td>\n",
       "      <td>0.0</td>\n",
       "      <td>-0.195814</td>\n",
       "    </tr>\n",
       "    <tr>\n",
       "      <th>3</th>\n",
       "      <td>0.533901</td>\n",
       "      <td>0.0</td>\n",
       "      <td>0.0</td>\n",
       "      <td>0.0</td>\n",
       "      <td>0.0</td>\n",
       "      <td>0.0</td>\n",
       "      <td>3.0</td>\n",
       "      <td>0.0</td>\n",
       "      <td>0.0</td>\n",
       "      <td>0.0</td>\n",
       "      <td>1.0</td>\n",
       "      <td>0.0</td>\n",
       "      <td>0.0</td>\n",
       "      <td>0.0</td>\n",
       "      <td>0.0</td>\n",
       "      <td>0.0</td>\n",
       "      <td>-0.196264</td>\n",
       "    </tr>\n",
       "    <tr>\n",
       "      <th>4</th>\n",
       "      <td>0.557143</td>\n",
       "      <td>0.0</td>\n",
       "      <td>0.0</td>\n",
       "      <td>0.0</td>\n",
       "      <td>0.0</td>\n",
       "      <td>0.0</td>\n",
       "      <td>4.0</td>\n",
       "      <td>0.0</td>\n",
       "      <td>0.0</td>\n",
       "      <td>0.0</td>\n",
       "      <td>1.0</td>\n",
       "      <td>0.0</td>\n",
       "      <td>0.0</td>\n",
       "      <td>0.0</td>\n",
       "      <td>0.0</td>\n",
       "      <td>0.0</td>\n",
       "      <td>-0.171888</td>\n",
       "    </tr>\n",
       "  </tbody>\n",
       "</table>\n",
       "</div>"
      ],
      "text/plain": [
       "        AUC  age_10_14  age_15_18  age_5_9  dvtotal  ejection  fold  \\\n",
       "0  0.500564        0.0        0.0      0.0      0.0       0.0   0.0   \n",
       "1  0.524273        0.0        0.0      0.0      0.0       0.0   1.0   \n",
       "2  0.534150        0.0        0.0      0.0      0.0       0.0   2.0   \n",
       "3  0.533901        0.0        0.0      0.0      0.0       0.0   3.0   \n",
       "4  0.557143        0.0        0.0      0.0      0.0       0.0   4.0   \n",
       "\n",
       "   front_row  multicoll  no_restraint  num_vars  pdof_farside  pdof_nearside  \\\n",
       "0        0.0        0.0           0.0       1.0           0.0            0.0   \n",
       "1        0.0        0.0           0.0       1.0           0.0            0.0   \n",
       "2        0.0        0.0           0.0       1.0           0.0            0.0   \n",
       "3        0.0        0.0           0.0       1.0           0.0            0.0   \n",
       "4        0.0        0.0           0.0       1.0           0.0            0.0   \n",
       "\n",
       "   pdof_rear  prop_restraint  rolled       sex  \n",
       "0        0.0             0.0     0.0 -0.226578  \n",
       "1        0.0             0.0     0.0 -0.204865  \n",
       "2        0.0             0.0     0.0 -0.195814  \n",
       "3        0.0             0.0     0.0 -0.196264  \n",
       "4        0.0             0.0     0.0 -0.171888  "
      ]
     },
     "execution_count": 7,
     "metadata": {},
     "output_type": "execute_result"
    }
   ],
   "source": [
    "results.head(5)"
   ]
  },
  {
   "cell_type": "markdown",
   "metadata": {},
   "source": [
    "## Store results"
   ]
  },
  {
   "cell_type": "code",
   "execution_count": 8,
   "metadata": {},
   "outputs": [],
   "source": [
    "results.to_csv(\"../Results/Model_avg_10x-\"+outcome+\".csv\",index=False)"
   ]
  }
 ],
 "metadata": {
  "kernelspec": {
   "display_name": "Python 3",
   "language": "python",
   "name": "python3"
  },
  "language_info": {
   "codemirror_mode": {
    "name": "ipython",
    "version": 3
   },
   "file_extension": ".py",
   "mimetype": "text/x-python",
   "name": "python",
   "nbconvert_exporter": "python",
   "pygments_lexer": "ipython3",
   "version": "3.6.5"
  }
 },
 "nbformat": 4,
 "nbformat_minor": 4
}
