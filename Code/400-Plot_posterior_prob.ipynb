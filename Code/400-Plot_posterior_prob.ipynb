{
 "cells": [
  {
   "cell_type": "markdown",
   "metadata": {},
   "source": [
    "## Project: Development of a reduced pediatric injury prediction model\n",
    "Created by: Thomas Hartka, MD, MS  \n",
    "Date created: 12/20/20  \n",
    "  \n",
    "This notebook plots the posterior probability for each variable based on the Bayesian model averaging."
   ]
  },
  {
   "cell_type": "code",
   "execution_count": 1,
   "metadata": {},
   "outputs": [],
   "source": [
    "import numpy as np\n",
    "import pandas as pd\n",
    "import matplotlib.pyplot as plt\n",
    "from scipy import stats\n",
    "from matplotlib.ticker import FormatStrFormatter"
   ]
  },
  {
   "cell_type": "markdown",
   "metadata": {},
   "source": [
    "## Read data and combine"
   ]
  },
  {
   "cell_type": "code",
   "execution_count": 2,
   "metadata": {},
   "outputs": [],
   "source": [
    "# read in data\n",
    "var_prob = pd.read_csv(\"../Results/Var_prob_10x-ext_pred-ISS.csv\")\n",
    "var_prob_til = pd.read_csv(\"../Results/Var_prob_10x-ext_pred-TIL.csv\")\n",
    "\n",
    "# rename ISS results\n",
    "var_prob = var_prob.rename(columns={'post_prob':'ISS>=16'})\n",
    "\n",
    "# combine data\n",
    "var_prob['Target injury list'] = var_prob_til.post_prob\n",
    "\n",
    "# set variable to index\n",
    "var_prob = var_prob.set_index('variable')"
   ]
  },
  {
   "cell_type": "markdown",
   "metadata": {},
   "source": [
    "## Rename variables for Plot"
   ]
  },
  {
   "cell_type": "code",
   "execution_count": 3,
   "metadata": {},
   "outputs": [],
   "source": [
    "var_prob = var_prob.rename(index={'age_10_14': 'Age: 10-14', \n",
    "                     'pdof_farside': 'PDOF-Farside',\n",
    "                     'sex':'Sex-Female',\n",
    "                     'age_5_9':'Age: 5-9',\n",
    "                     'front_row':'Seating-Front row',\n",
    "                     'pdof_rear':'PDOF-Rear',\n",
    "                     'age_15_18':'Age: 15-18',\n",
    "                     'rolled':'Rollover',\n",
    "                     'prop_restraint':'Optimal restraint use',\n",
    "                     'multicoll':'Multiple collisions',\n",
    "                     'pdof_nearside':'PDOF-Nearside',\n",
    "                     'any_restraint':'Any restraint use',\n",
    "                     'dvtotal':'Delta-V total',\n",
    "                     'ejection':'Ejection',\n",
    "                     'entrapment':'Entrapment',\n",
    "                     'splimit':'Posted speed limit',\n",
    "                     'abdeply':'Any airbag deplyoment'})"
   ]
  },
  {
   "cell_type": "markdown",
   "metadata": {},
   "source": [
    "## Plot results"
   ]
  },
  {
   "cell_type": "code",
   "execution_count": 4,
   "metadata": {},
   "outputs": [],
   "source": [
    "# reverse order of variables\n",
    "var_prob = var_prob.sort_values(by='ISS>=16',ascending=True)"
   ]
  },
  {
   "cell_type": "code",
   "execution_count": 5,
   "metadata": {},
   "outputs": [
    {
     "data": {
      "text/html": [
       "<div>\n",
       "<style scoped>\n",
       "    .dataframe tbody tr th:only-of-type {\n",
       "        vertical-align: middle;\n",
       "    }\n",
       "\n",
       "    .dataframe tbody tr th {\n",
       "        vertical-align: top;\n",
       "    }\n",
       "\n",
       "    .dataframe thead th {\n",
       "        text-align: right;\n",
       "    }\n",
       "</style>\n",
       "<table border=\"1\" class=\"dataframe\">\n",
       "  <thead>\n",
       "    <tr style=\"text-align: right;\">\n",
       "      <th></th>\n",
       "      <th>ISS&gt;=16</th>\n",
       "      <th>Target injury list</th>\n",
       "    </tr>\n",
       "    <tr>\n",
       "      <th>variable</th>\n",
       "      <th></th>\n",
       "      <th></th>\n",
       "    </tr>\n",
       "  </thead>\n",
       "  <tbody>\n",
       "    <tr>\n",
       "      <th>Age: 10-14</th>\n",
       "      <td>0.057487</td>\n",
       "      <td>0.057425</td>\n",
       "    </tr>\n",
       "    <tr>\n",
       "      <th>Sex-Female</th>\n",
       "      <td>0.057501</td>\n",
       "      <td>0.057462</td>\n",
       "    </tr>\n",
       "    <tr>\n",
       "      <th>PDOF-Rear</th>\n",
       "      <td>0.057505</td>\n",
       "      <td>0.057511</td>\n",
       "    </tr>\n",
       "    <tr>\n",
       "      <th>PDOF-Farside</th>\n",
       "      <td>0.057519</td>\n",
       "      <td>0.057534</td>\n",
       "    </tr>\n",
       "    <tr>\n",
       "      <th>Age: 5-9</th>\n",
       "      <td>0.057577</td>\n",
       "      <td>0.057562</td>\n",
       "    </tr>\n",
       "    <tr>\n",
       "      <th>Seating-Front row</th>\n",
       "      <td>0.057618</td>\n",
       "      <td>0.057689</td>\n",
       "    </tr>\n",
       "    <tr>\n",
       "      <th>Any airbag deplyoment</th>\n",
       "      <td>0.057746</td>\n",
       "      <td>0.057782</td>\n",
       "    </tr>\n",
       "    <tr>\n",
       "      <th>Age: 15-18</th>\n",
       "      <td>0.057827</td>\n",
       "      <td>0.057921</td>\n",
       "    </tr>\n",
       "    <tr>\n",
       "      <th>Posted speed limit</th>\n",
       "      <td>0.057908</td>\n",
       "      <td>0.057970</td>\n",
       "    </tr>\n",
       "    <tr>\n",
       "      <th>Rollover</th>\n",
       "      <td>0.057967</td>\n",
       "      <td>0.058018</td>\n",
       "    </tr>\n",
       "    <tr>\n",
       "      <th>PDOF-Nearside</th>\n",
       "      <td>0.058084</td>\n",
       "      <td>0.058213</td>\n",
       "    </tr>\n",
       "    <tr>\n",
       "      <th>Multiple collisions</th>\n",
       "      <td>0.058118</td>\n",
       "      <td>0.058459</td>\n",
       "    </tr>\n",
       "    <tr>\n",
       "      <th>Optimal restraint use</th>\n",
       "      <td>0.058274</td>\n",
       "      <td>0.059083</td>\n",
       "    </tr>\n",
       "    <tr>\n",
       "      <th>Any restraint use</th>\n",
       "      <td>0.059109</td>\n",
       "      <td>0.059461</td>\n",
       "    </tr>\n",
       "    <tr>\n",
       "      <th>Ejection</th>\n",
       "      <td>0.059341</td>\n",
       "      <td>0.059482</td>\n",
       "    </tr>\n",
       "    <tr>\n",
       "      <th>Entrapment</th>\n",
       "      <td>0.059735</td>\n",
       "      <td>0.059512</td>\n",
       "    </tr>\n",
       "    <tr>\n",
       "      <th>Delta-V total</th>\n",
       "      <td>0.070684</td>\n",
       "      <td>0.068915</td>\n",
       "    </tr>\n",
       "  </tbody>\n",
       "</table>\n",
       "</div>"
      ],
      "text/plain": [
       "                        ISS>=16  Target injury list\n",
       "variable                                           \n",
       "Age: 10-14             0.057487            0.057425\n",
       "Sex-Female             0.057501            0.057462\n",
       "PDOF-Rear              0.057505            0.057511\n",
       "PDOF-Farside           0.057519            0.057534\n",
       "Age: 5-9               0.057577            0.057562\n",
       "Seating-Front row      0.057618            0.057689\n",
       "Any airbag deplyoment  0.057746            0.057782\n",
       "Age: 15-18             0.057827            0.057921\n",
       "Posted speed limit     0.057908            0.057970\n",
       "Rollover               0.057967            0.058018\n",
       "PDOF-Nearside          0.058084            0.058213\n",
       "Multiple collisions    0.058118            0.058459\n",
       "Optimal restraint use  0.058274            0.059083\n",
       "Any restraint use      0.059109            0.059461\n",
       "Ejection               0.059341            0.059482\n",
       "Entrapment             0.059735            0.059512\n",
       "Delta-V total          0.070684            0.068915"
      ]
     },
     "execution_count": 5,
     "metadata": {},
     "output_type": "execute_result"
    }
   ],
   "source": [
    "var_prob"
   ]
  },
  {
   "cell_type": "code",
   "execution_count": 6,
   "metadata": {},
   "outputs": [
    {
     "data": {
      "text/plain": [
       "Text(0.5,0,'Posterior probability ')"
      ]
     },
     "execution_count": 6,
     "metadata": {},
     "output_type": "execute_result"
    },
    {
     "data": {
      "image/png": "[encoded data removed]",
      "text/plain": [
       "<Figure size 432x288 with 1 Axes>"
      ]
     },
     "metadata": {},
     "output_type": "display_data"
    }
   ],
   "source": [
    "# set up plot\n",
    "#fig, ax = plt.subplots()\n",
    "\n",
    "# add data to horizontal var plot\n",
    "fig = var_prob[['Target injury list','ISS>=16']].plot(kind='barh',color=['grey','black'], width=0.8)\n",
    "\n",
    "# set limits\n",
    "plt.xlim(0.05, 0.075)\n",
    "\n",
    "# format y-axis ticks\n",
    "#ax.xaxis.set_major_formatter(FormatStrFormatter('%.2f'))\n",
    "\n",
    "# add labels\n",
    "plt.ylabel('Variable',size=12)\n",
    "plt.xlabel('Posterior probability ',size=12)\n",
    "\n",
    "#plt.show()"
   ]
  },
  {
   "cell_type": "code",
   "execution_count": 7,
   "metadata": {},
   "outputs": [
    {
     "data": {
      "text/plain": [
       "(array([ 0,  1,  2,  3,  4,  5,  6,  7,  8,  9, 10, 11, 12, 13, 14, 15, 16]),\n",
       " <a list of 17 Text yticklabel objects>)"
      ]
     },
     "execution_count": 7,
     "metadata": {},
     "output_type": "execute_result"
    },
    {
     "data": {
      "image/png": "[encoded data removed]",
      "text/plain": [
       "<Figure size 432x288 with 1 Axes>"
      ]
     },
     "metadata": {},
     "output_type": "display_data"
    }
   ],
   "source": [
    "# add data to horizontal var plot\n",
    "fig = var_prob['ISS>=16'].plot(kind='barh',color=['black'], width=0.8)\n",
    "\n",
    "# set limits\n",
    "plt.xlim(0.05, 0.075)\n",
    "\n",
    "# format y-axis ticks\n",
    "#ax.xaxis.set_major_formatter(FormatStrFormatter('%.2f'))\n",
    "\n",
    "# add labels\n",
    "plt.ylabel('Variable',size=14)\n",
    "plt.xlabel('Posterior probability ',size=14)\n",
    "plt.yticks(fontsize=12)"
   ]
  },
  {
   "cell_type": "code",
   "execution_count": null,
   "metadata": {},
   "outputs": [],
   "source": []
  },
  {
   "cell_type": "code",
   "execution_count": null,
   "metadata": {},
   "outputs": [],
   "source": []
  }
 ],
 "metadata": {
  "kernelspec": {
   "display_name": "Python 3",
   "language": "python",
   "name": "python3"
  },
  "language_info": {
   "codemirror_mode": {
    "name": "ipython",
    "version": 3
   },
   "file_extension": ".py",
   "mimetype": "text/x-python",
   "name": "python",
   "nbconvert_exporter": "python",
   "pygments_lexer": "ipython3",
   "version": "3.6.7"
  }
 },
 "nbformat": 4,
 "nbformat_minor": 2
}
