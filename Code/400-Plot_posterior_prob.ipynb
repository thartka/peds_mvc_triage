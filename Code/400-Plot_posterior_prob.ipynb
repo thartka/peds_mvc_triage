{
 "cells": [
  {
   "cell_type": "markdown",
   "metadata": {},
   "source": [
    "## Project: Development of a reduced pediatric injury prediction model\n",
    "Created by: Thomas Hartka, MD, MS  \n",
    "Date created: 12/20/20  \n",
    "  \n",
    "This notebook plots the posterior probability for each variable based on the Bayesian model averaging."
   ]
  },
  {
   "cell_type": "code",
   "execution_count": 1,
   "metadata": {},
   "outputs": [],
   "source": [
    "import numpy as np\n",
    "import pandas as pd\n",
    "import matplotlib.pyplot as plt\n",
    "from scipy import stats\n",
    "from matplotlib.ticker import FormatStrFormatter"
   ]
  },
  {
   "cell_type": "markdown",
   "metadata": {},
   "source": [
    "## Read data and combine"
   ]
  },
  {
   "cell_type": "code",
   "execution_count": 2,
   "metadata": {},
   "outputs": [],
   "source": [
    "# read in data\n",
    "var_prob = pd.read_csv(\"../Results/Var_prob_10x-ISS.csv\")\n",
    "var_prob_til = pd.read_csv(\"../Results/Var_prob_10x-TIL.csv\")\n",
    "\n",
    "# rename ISS results\n",
    "var_prob = var_prob.rename(columns={'post_prob':'ISS>=16'})\n",
    "\n",
    "# combine data\n",
    "var_prob['Target injury list'] = var_prob_til.post_prob\n",
    "\n",
    "# set variable to index\n",
    "var_prob = var_prob.set_index('variable')"
   ]
  },
  {
   "cell_type": "markdown",
   "metadata": {},
   "source": [
    "## Rename variables for Plot"
   ]
  },
  {
   "cell_type": "code",
   "execution_count": 3,
   "metadata": {},
   "outputs": [],
   "source": [
    "var_prob = var_prob.rename(index={'age_10_14': 'Age: 10-14', \n",
    "                     'pdof_farside': 'PDOF-Farside',\n",
    "                     'sex':'Sex-Female',\n",
    "                     'age_5_9':'Age: 5-9',\n",
    "                     'front_row':'Seating-Front row',\n",
    "                     'pdof_rear':'PDOF-Rear',\n",
    "                     'age_15_18':'Age: 15-18',\n",
    "                     'rolled':'Rollover',\n",
    "                     'prop_restraint':'Optimal restraint use',\n",
    "                     'multicoll':'Multiple collisions',\n",
    "                     'pdof_nearside':'PDOF-Nearside',\n",
    "                     'no_restraint':'No restraint use',\n",
    "                     'dvtotal':'Delta-V total',\n",
    "                     'ejection':'Ejection'})"
   ]
  },
  {
   "cell_type": "markdown",
   "metadata": {},
   "source": [
    "## Plot results"
   ]
  },
  {
   "cell_type": "code",
   "execution_count": 5,
   "metadata": {},
   "outputs": [],
   "source": [
    "# reverse order of variables\n",
    "var_prob = var_prob.sort_values(by='ISS>=16',ascending=True)"
   ]
  },
  {
   "cell_type": "code",
   "execution_count": 6,
   "metadata": {},
   "outputs": [
    {
     "data": {
      "text/html": [
       "<div>\n",
       "<style scoped>\n",
       "    .dataframe tbody tr th:only-of-type {\n",
       "        vertical-align: middle;\n",
       "    }\n",
       "\n",
       "    .dataframe tbody tr th {\n",
       "        vertical-align: top;\n",
       "    }\n",
       "\n",
       "    .dataframe thead th {\n",
       "        text-align: right;\n",
       "    }\n",
       "</style>\n",
       "<table border=\"1\" class=\"dataframe\">\n",
       "  <thead>\n",
       "    <tr style=\"text-align: right;\">\n",
       "      <th></th>\n",
       "      <th>ISS&gt;=16</th>\n",
       "      <th>Target injury list</th>\n",
       "    </tr>\n",
       "    <tr>\n",
       "      <th>variable</th>\n",
       "      <th></th>\n",
       "      <th></th>\n",
       "    </tr>\n",
       "  </thead>\n",
       "  <tbody>\n",
       "    <tr>\n",
       "      <th>PDOF-Farside</th>\n",
       "      <td>0.068893</td>\n",
       "      <td>0.068860</td>\n",
       "    </tr>\n",
       "    <tr>\n",
       "      <th>Age: 10-14</th>\n",
       "      <td>0.068975</td>\n",
       "      <td>0.068910</td>\n",
       "    </tr>\n",
       "    <tr>\n",
       "      <th>Sex-Female</th>\n",
       "      <td>0.069014</td>\n",
       "      <td>0.068994</td>\n",
       "    </tr>\n",
       "    <tr>\n",
       "      <th>Age: 5-9</th>\n",
       "      <td>0.069224</td>\n",
       "      <td>0.069024</td>\n",
       "    </tr>\n",
       "    <tr>\n",
       "      <th>Seating-Front row</th>\n",
       "      <td>0.069350</td>\n",
       "      <td>0.069163</td>\n",
       "    </tr>\n",
       "    <tr>\n",
       "      <th>Age: 15-18</th>\n",
       "      <td>0.069470</td>\n",
       "      <td>0.069184</td>\n",
       "    </tr>\n",
       "    <tr>\n",
       "      <th>PDOF-Rear</th>\n",
       "      <td>0.069474</td>\n",
       "      <td>0.070042</td>\n",
       "    </tr>\n",
       "    <tr>\n",
       "      <th>Optimal restraint use</th>\n",
       "      <td>0.070097</td>\n",
       "      <td>0.070313</td>\n",
       "    </tr>\n",
       "    <tr>\n",
       "      <th>Rollover</th>\n",
       "      <td>0.070289</td>\n",
       "      <td>0.070641</td>\n",
       "    </tr>\n",
       "    <tr>\n",
       "      <th>Multiple collisions</th>\n",
       "      <td>0.070710</td>\n",
       "      <td>0.070687</td>\n",
       "    </tr>\n",
       "    <tr>\n",
       "      <th>PDOF-Nearside</th>\n",
       "      <td>0.071077</td>\n",
       "      <td>0.071288</td>\n",
       "    </tr>\n",
       "    <tr>\n",
       "      <th>No restraint use</th>\n",
       "      <td>0.071614</td>\n",
       "      <td>0.071540</td>\n",
       "    </tr>\n",
       "    <tr>\n",
       "      <th>Ejection</th>\n",
       "      <td>0.071679</td>\n",
       "      <td>0.072317</td>\n",
       "    </tr>\n",
       "    <tr>\n",
       "      <th>Delta-V total</th>\n",
       "      <td>0.090135</td>\n",
       "      <td>0.089037</td>\n",
       "    </tr>\n",
       "  </tbody>\n",
       "</table>\n",
       "</div>"
      ],
      "text/plain": [
       "                        ISS>=16  Target injury list\n",
       "variable                                           \n",
       "PDOF-Farside           0.068893            0.068860\n",
       "Age: 10-14             0.068975            0.068910\n",
       "Sex-Female             0.069014            0.068994\n",
       "Age: 5-9               0.069224            0.069024\n",
       "Seating-Front row      0.069350            0.069163\n",
       "Age: 15-18             0.069470            0.069184\n",
       "PDOF-Rear              0.069474            0.070042\n",
       "Optimal restraint use  0.070097            0.070313\n",
       "Rollover               0.070289            0.070641\n",
       "Multiple collisions    0.070710            0.070687\n",
       "PDOF-Nearside          0.071077            0.071288\n",
       "No restraint use       0.071614            0.071540\n",
       "Ejection               0.071679            0.072317\n",
       "Delta-V total          0.090135            0.089037"
      ]
     },
     "execution_count": 6,
     "metadata": {},
     "output_type": "execute_result"
    }
   ],
   "source": [
    "var_prob"
   ]
  },
  {
   "cell_type": "code",
   "execution_count": 28,
   "metadata": {},
   "outputs": [
    {
     "data": {
      "text/plain": [
       "Text(0.5,0,'Posterior probability ')"
      ]
     },
     "execution_count": 28,
     "metadata": {},
     "output_type": "execute_result"
    },
    {
     "data": {
      "image/png": "[encoded data removed]",
      "text/plain": [
       "<Figure size 432x288 with 1 Axes>"
      ]
     },
     "metadata": {},
     "output_type": "display_data"
    }
   ],
   "source": [
    "# set up plot\n",
    "#fig, ax = plt.subplots()\n",
    "\n",
    "# add data to horizontal var plot\n",
    "fig = var_prob[['Target injury list','ISS>=16']].plot(kind='barh',color=['grey','black'], width=0.8)\n",
    "\n",
    "# set limits\n",
    "plt.xlim(0.06, 0.095)\n",
    "\n",
    "# format y-axis ticks\n",
    "#ax.xaxis.set_major_formatter(FormatStrFormatter('%.2f'))\n",
    "\n",
    "# add labels\n",
    "plt.ylabel('Variable',size=12)\n",
    "plt.xlabel('Posterior probability ',size=12)\n",
    "\n",
    "#plt.show()"
   ]
  },
  {
   "cell_type": "code",
   "execution_count": null,
   "metadata": {},
   "outputs": [],
   "source": []
  },
  {
   "cell_type": "code",
   "execution_count": null,
   "metadata": {},
   "outputs": [],
   "source": []
  }
 ],
 "metadata": {
  "kernelspec": {
   "display_name": "Python 3",
   "language": "python",
   "name": "python3"
  },
  "language_info": {
   "codemirror_mode": {
    "name": "ipython",
    "version": 3
   },
   "file_extension": ".py",
   "mimetype": "text/x-python",
   "name": "python",
   "nbconvert_exporter": "python",
   "pygments_lexer": "ipython3",
   "version": "3.6.5"
  }
 },
 "nbformat": 4,
 "nbformat_minor": 2
}
